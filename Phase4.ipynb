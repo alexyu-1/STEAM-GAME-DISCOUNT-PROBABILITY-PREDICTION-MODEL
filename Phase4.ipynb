{
 "cells": [
  {
   "attachments": {},
   "cell_type": "markdown",
   "id": "42cce5a7",
   "metadata": {},
   "source": [
    "## Predicting Steam Game Discounts Probabilities\n",
    "\n",
    "Andrew Jin, Ian Lau, Meng Un, Alex Yu \n",
    "\n",
    "DS300\n",
    "\n",
    "Spring 2023 \n",
    "\n"
   ]
  },
  {
   "cell_type": "markdown",
   "id": "924cf0f5",
   "metadata": {},
   "source": [
    "## Loading and observing data"
   ]
  },
  {
   "cell_type": "code",
   "execution_count": 1,
   "id": "51f23372",
   "metadata": {},
   "outputs": [
    {
     "data": {
      "text/html": [
       "<div>\n",
       "<style scoped>\n",
       "    .dataframe tbody tr th:only-of-type {\n",
       "        vertical-align: middle;\n",
       "    }\n",
       "\n",
       "    .dataframe tbody tr th {\n",
       "        vertical-align: top;\n",
       "    }\n",
       "\n",
       "    .dataframe thead th {\n",
       "        text-align: right;\n",
       "    }\n",
       "</style>\n",
       "<table border=\"1\" class=\"dataframe\">\n",
       "  <thead>\n",
       "    <tr style=\"text-align: right;\">\n",
       "      <th></th>\n",
       "      <th>app_id</th>\n",
       "      <th>positive_ratio</th>\n",
       "      <th>user_reviews</th>\n",
       "      <th>price_final</th>\n",
       "      <th>price_original</th>\n",
       "      <th>discount</th>\n",
       "    </tr>\n",
       "  </thead>\n",
       "  <tbody>\n",
       "    <tr>\n",
       "      <th>count</th>\n",
       "      <td>46068.00</td>\n",
       "      <td>46068.00</td>\n",
       "      <td>46068.00</td>\n",
       "      <td>46068.00</td>\n",
       "      <td>46068.00</td>\n",
       "      <td>46068.00</td>\n",
       "    </tr>\n",
       "    <tr>\n",
       "      <th>mean</th>\n",
       "      <td>986443.12</td>\n",
       "      <td>76.76</td>\n",
       "      <td>1843.20</td>\n",
       "      <td>8.75</td>\n",
       "      <td>9.30</td>\n",
       "      <td>5.19</td>\n",
       "    </tr>\n",
       "    <tr>\n",
       "      <th>std</th>\n",
       "      <td>567048.71</td>\n",
       "      <td>18.20</td>\n",
       "      <td>39086.56</td>\n",
       "      <td>11.36</td>\n",
       "      <td>11.67</td>\n",
       "      <td>18.19</td>\n",
       "    </tr>\n",
       "    <tr>\n",
       "      <th>min</th>\n",
       "      <td>10.00</td>\n",
       "      <td>0.00</td>\n",
       "      <td>10.00</td>\n",
       "      <td>0.00</td>\n",
       "      <td>0.00</td>\n",
       "      <td>0.00</td>\n",
       "    </tr>\n",
       "    <tr>\n",
       "      <th>25%</th>\n",
       "      <td>501722.75</td>\n",
       "      <td>66.00</td>\n",
       "      <td>20.00</td>\n",
       "      <td>1.38</td>\n",
       "      <td>1.99</td>\n",
       "      <td>0.00</td>\n",
       "    </tr>\n",
       "    <tr>\n",
       "      <th>50%</th>\n",
       "      <td>916285.00</td>\n",
       "      <td>81.00</td>\n",
       "      <td>53.00</td>\n",
       "      <td>4.99</td>\n",
       "      <td>5.99</td>\n",
       "      <td>0.00</td>\n",
       "    </tr>\n",
       "    <tr>\n",
       "      <th>75%</th>\n",
       "      <td>1422157.50</td>\n",
       "      <td>91.00</td>\n",
       "      <td>226.00</td>\n",
       "      <td>11.99</td>\n",
       "      <td>12.99</td>\n",
       "      <td>0.00</td>\n",
       "    </tr>\n",
       "    <tr>\n",
       "      <th>max</th>\n",
       "      <td>2319990.00</td>\n",
       "      <td>100.00</td>\n",
       "      <td>6941137.00</td>\n",
       "      <td>299.99</td>\n",
       "      <td>299.99</td>\n",
       "      <td>90.00</td>\n",
       "    </tr>\n",
       "  </tbody>\n",
       "</table>\n",
       "</div>"
      ],
      "text/plain": [
       "           app_id  positive_ratio  user_reviews  price_final  price_original  \\\n",
       "count    46068.00        46068.00      46068.00     46068.00        46068.00   \n",
       "mean    986443.12           76.76       1843.20         8.75            9.30   \n",
       "std     567048.71           18.20      39086.56        11.36           11.67   \n",
       "min         10.00            0.00         10.00         0.00            0.00   \n",
       "25%     501722.75           66.00         20.00         1.38            1.99   \n",
       "50%     916285.00           81.00         53.00         4.99            5.99   \n",
       "75%    1422157.50           91.00        226.00        11.99           12.99   \n",
       "max    2319990.00          100.00    6941137.00       299.99          299.99   \n",
       "\n",
       "       discount  \n",
       "count  46068.00  \n",
       "mean       5.19  \n",
       "std       18.19  \n",
       "min        0.00  \n",
       "25%        0.00  \n",
       "50%        0.00  \n",
       "75%        0.00  \n",
       "max       90.00  "
      ]
     },
     "execution_count": 1,
     "metadata": {},
     "output_type": "execute_result"
    }
   ],
   "source": [
    "import csv\n",
    "import pandas as pd\n",
    "import matplotlib.pyplot as plt\n",
    "import numpy as np\n",
    "import xgboost as xgb\n",
    "from sklearn.metrics import accuracy_score, classification_report\n",
    "from sklearn.model_selection import train_test_split, KFold, cross_val_score, RandomizedSearchCV\n",
    "from sklearn.linear_model import LogisticRegression\n",
    "from sklearn.ensemble import RandomForestRegressor\n",
    "from sklearn.svm import SVC\n",
    "from sklearn.preprocessing import StandardScaler, OneHotEncoder, MinMaxScaler\n",
    "\n",
    "df_games = pd.read_csv('games.csv')\n",
    "df_games.describe().round(2)"
   ]
  },
  {
   "attachments": {},
   "cell_type": "markdown",
   "id": "dae2c1d6",
   "metadata": {},
   "source": [
    "This is the unedited version of the games csv that was ported from kaggle. We can see that there are roughly 46,000 games within this dataset. There are also some additional columns not apparent from the detail view on the kaggle page for this data. "
   ]
  },
  {
   "cell_type": "code",
   "execution_count": 3,
   "id": "184c483d",
   "metadata": {},
   "outputs": [
    {
     "data": {
      "text/html": [
       "<div>\n",
       "<style scoped>\n",
       "    .dataframe tbody tr th:only-of-type {\n",
       "        vertical-align: middle;\n",
       "    }\n",
       "\n",
       "    .dataframe tbody tr th {\n",
       "        vertical-align: top;\n",
       "    }\n",
       "\n",
       "    .dataframe thead th {\n",
       "        text-align: right;\n",
       "    }\n",
       "</style>\n",
       "<table border=\"1\" class=\"dataframe\">\n",
       "  <thead>\n",
       "    <tr style=\"text-align: right;\">\n",
       "      <th></th>\n",
       "      <th>app_id</th>\n",
       "      <th>title</th>\n",
       "      <th>date_release</th>\n",
       "      <th>win</th>\n",
       "      <th>mac</th>\n",
       "      <th>linux</th>\n",
       "      <th>rating</th>\n",
       "      <th>positive_ratio</th>\n",
       "      <th>user_reviews</th>\n",
       "      <th>price_final</th>\n",
       "      <th>price_original</th>\n",
       "      <th>discount</th>\n",
       "      <th>steam_deck</th>\n",
       "    </tr>\n",
       "  </thead>\n",
       "  <tbody>\n",
       "    <tr>\n",
       "      <th>0</th>\n",
       "      <td>10090</td>\n",
       "      <td>Call of Duty: World at War</td>\n",
       "      <td>2008-11-18</td>\n",
       "      <td>True</td>\n",
       "      <td>False</td>\n",
       "      <td>False</td>\n",
       "      <td>Very Positive</td>\n",
       "      <td>92</td>\n",
       "      <td>37039</td>\n",
       "      <td>19.99</td>\n",
       "      <td>19.99</td>\n",
       "      <td>0.0</td>\n",
       "      <td>True</td>\n",
       "    </tr>\n",
       "    <tr>\n",
       "      <th>1</th>\n",
       "      <td>13500</td>\n",
       "      <td>Prince of Persia: Warrior Within™</td>\n",
       "      <td>2008-11-21</td>\n",
       "      <td>True</td>\n",
       "      <td>False</td>\n",
       "      <td>False</td>\n",
       "      <td>Very Positive</td>\n",
       "      <td>84</td>\n",
       "      <td>2199</td>\n",
       "      <td>9.99</td>\n",
       "      <td>9.99</td>\n",
       "      <td>0.0</td>\n",
       "      <td>True</td>\n",
       "    </tr>\n",
       "    <tr>\n",
       "      <th>2</th>\n",
       "      <td>22364</td>\n",
       "      <td>BRINK: Agents of Change</td>\n",
       "      <td>2011-08-03</td>\n",
       "      <td>True</td>\n",
       "      <td>False</td>\n",
       "      <td>False</td>\n",
       "      <td>Positive</td>\n",
       "      <td>85</td>\n",
       "      <td>21</td>\n",
       "      <td>2.99</td>\n",
       "      <td>2.99</td>\n",
       "      <td>0.0</td>\n",
       "      <td>True</td>\n",
       "    </tr>\n",
       "    <tr>\n",
       "      <th>3</th>\n",
       "      <td>113020</td>\n",
       "      <td>Monaco: What's Yours Is Mine</td>\n",
       "      <td>2013-04-24</td>\n",
       "      <td>True</td>\n",
       "      <td>True</td>\n",
       "      <td>True</td>\n",
       "      <td>Very Positive</td>\n",
       "      <td>92</td>\n",
       "      <td>3722</td>\n",
       "      <td>14.99</td>\n",
       "      <td>14.99</td>\n",
       "      <td>0.0</td>\n",
       "      <td>True</td>\n",
       "    </tr>\n",
       "    <tr>\n",
       "      <th>4</th>\n",
       "      <td>226560</td>\n",
       "      <td>Escape Dead Island</td>\n",
       "      <td>2014-11-18</td>\n",
       "      <td>True</td>\n",
       "      <td>False</td>\n",
       "      <td>False</td>\n",
       "      <td>Mixed</td>\n",
       "      <td>61</td>\n",
       "      <td>873</td>\n",
       "      <td>14.99</td>\n",
       "      <td>14.99</td>\n",
       "      <td>0.0</td>\n",
       "      <td>True</td>\n",
       "    </tr>\n",
       "  </tbody>\n",
       "</table>\n",
       "</div>"
      ],
      "text/plain": [
       "   app_id                              title date_release   win    mac  linux  \\\n",
       "0   10090         Call of Duty: World at War   2008-11-18  True  False  False   \n",
       "1   13500  Prince of Persia: Warrior Within™   2008-11-21  True  False  False   \n",
       "2   22364            BRINK: Agents of Change   2011-08-03  True  False  False   \n",
       "3  113020       Monaco: What's Yours Is Mine   2013-04-24  True   True   True   \n",
       "4  226560                 Escape Dead Island   2014-11-18  True  False  False   \n",
       "\n",
       "          rating  positive_ratio  user_reviews  price_final  price_original  \\\n",
       "0  Very Positive              92         37039        19.99           19.99   \n",
       "1  Very Positive              84          2199         9.99            9.99   \n",
       "2       Positive              85            21         2.99            2.99   \n",
       "3  Very Positive              92          3722        14.99           14.99   \n",
       "4          Mixed              61           873        14.99           14.99   \n",
       "\n",
       "   discount  steam_deck  \n",
       "0       0.0        True  \n",
       "1       0.0        True  \n",
       "2       0.0        True  \n",
       "3       0.0        True  \n",
       "4       0.0        True  "
      ]
     },
     "execution_count": 3,
     "metadata": {},
     "output_type": "execute_result"
    }
   ],
   "source": [
    "df_games.head()"
   ]
  },
  {
   "attachments": {},
   "cell_type": "markdown",
   "id": "6fb7307d",
   "metadata": {},
   "source": [
    "This small view of the data shows the app_id, which will be the unique identifier we will be using to compare to the steamdb data for the histoical price pulling. "
   ]
  },
  {
   "cell_type": "markdown",
   "id": "8f222707",
   "metadata": {},
   "source": [
    "## Cleaning Data\n",
    "- dropping free games\n",
    "- filtering dates from 2019 - March 2023"
   ]
  },
  {
   "cell_type": "code",
   "execution_count": 4,
   "id": "1357843d",
   "metadata": {},
   "outputs": [
    {
     "data": {
      "text/html": [
       "<div>\n",
       "<style scoped>\n",
       "    .dataframe tbody tr th:only-of-type {\n",
       "        vertical-align: middle;\n",
       "    }\n",
       "\n",
       "    .dataframe tbody tr th {\n",
       "        vertical-align: top;\n",
       "    }\n",
       "\n",
       "    .dataframe thead th {\n",
       "        text-align: right;\n",
       "    }\n",
       "</style>\n",
       "<table border=\"1\" class=\"dataframe\">\n",
       "  <thead>\n",
       "    <tr style=\"text-align: right;\">\n",
       "      <th></th>\n",
       "      <th>app_id</th>\n",
       "      <th>positive_ratio</th>\n",
       "      <th>user_reviews</th>\n",
       "      <th>price_final</th>\n",
       "      <th>price_original</th>\n",
       "      <th>discount</th>\n",
       "    </tr>\n",
       "  </thead>\n",
       "  <tbody>\n",
       "    <tr>\n",
       "      <th>count</th>\n",
       "      <td>38698.00</td>\n",
       "      <td>38698.00</td>\n",
       "      <td>38698.00</td>\n",
       "      <td>38698.00</td>\n",
       "      <td>38698.00</td>\n",
       "      <td>38698.00</td>\n",
       "    </tr>\n",
       "    <tr>\n",
       "      <th>mean</th>\n",
       "      <td>957893.99</td>\n",
       "      <td>76.96</td>\n",
       "      <td>1477.14</td>\n",
       "      <td>10.39</td>\n",
       "      <td>11.07</td>\n",
       "      <td>6.17</td>\n",
       "    </tr>\n",
       "    <tr>\n",
       "      <th>std</th>\n",
       "      <td>564085.90</td>\n",
       "      <td>18.33</td>\n",
       "      <td>15304.71</td>\n",
       "      <td>11.67</td>\n",
       "      <td>11.94</td>\n",
       "      <td>19.69</td>\n",
       "    </tr>\n",
       "    <tr>\n",
       "      <th>min</th>\n",
       "      <td>10.00</td>\n",
       "      <td>0.00</td>\n",
       "      <td>10.00</td>\n",
       "      <td>0.27</td>\n",
       "      <td>0.50</td>\n",
       "      <td>0.00</td>\n",
       "    </tr>\n",
       "    <tr>\n",
       "      <th>25%</th>\n",
       "      <td>468422.50</td>\n",
       "      <td>67.00</td>\n",
       "      <td>20.00</td>\n",
       "      <td>2.99</td>\n",
       "      <td>3.99</td>\n",
       "      <td>0.00</td>\n",
       "    </tr>\n",
       "    <tr>\n",
       "      <th>50%</th>\n",
       "      <td>876865.00</td>\n",
       "      <td>81.00</td>\n",
       "      <td>50.00</td>\n",
       "      <td>6.99</td>\n",
       "      <td>7.99</td>\n",
       "      <td>0.00</td>\n",
       "    </tr>\n",
       "    <tr>\n",
       "      <th>75%</th>\n",
       "      <td>1386767.50</td>\n",
       "      <td>91.00</td>\n",
       "      <td>211.00</td>\n",
       "      <td>14.99</td>\n",
       "      <td>14.99</td>\n",
       "      <td>0.00</td>\n",
       "    </tr>\n",
       "    <tr>\n",
       "      <th>max</th>\n",
       "      <td>2319990.00</td>\n",
       "      <td>100.00</td>\n",
       "      <td>939992.00</td>\n",
       "      <td>299.99</td>\n",
       "      <td>299.99</td>\n",
       "      <td>90.00</td>\n",
       "    </tr>\n",
       "  </tbody>\n",
       "</table>\n",
       "</div>"
      ],
      "text/plain": [
       "           app_id  positive_ratio  user_reviews  price_final  price_original  \\\n",
       "count    38698.00        38698.00      38698.00     38698.00        38698.00   \n",
       "mean    957893.99           76.96       1477.14        10.39           11.07   \n",
       "std     564085.90           18.33      15304.71        11.67           11.94   \n",
       "min         10.00            0.00         10.00         0.27            0.50   \n",
       "25%     468422.50           67.00         20.00         2.99            3.99   \n",
       "50%     876865.00           81.00         50.00         6.99            7.99   \n",
       "75%    1386767.50           91.00        211.00        14.99           14.99   \n",
       "max    2319990.00          100.00     939992.00       299.99          299.99   \n",
       "\n",
       "       discount  \n",
       "count  38698.00  \n",
       "mean       6.17  \n",
       "std       19.69  \n",
       "min        0.00  \n",
       "25%        0.00  \n",
       "50%        0.00  \n",
       "75%        0.00  \n",
       "max       90.00  "
      ]
     },
     "execution_count": 4,
     "metadata": {},
     "output_type": "execute_result"
    }
   ],
   "source": [
    "df_gamesFiltered = df_games[df_games['price_original'] > 0]\n",
    "df_gamesFiltered.describe().round(2)"
   ]
  },
  {
   "cell_type": "code",
   "execution_count": 5,
   "id": "17ff21b9",
   "metadata": {},
   "outputs": [
    {
     "data": {
      "text/html": [
       "<div>\n",
       "<style scoped>\n",
       "    .dataframe tbody tr th:only-of-type {\n",
       "        vertical-align: middle;\n",
       "    }\n",
       "\n",
       "    .dataframe tbody tr th {\n",
       "        vertical-align: top;\n",
       "    }\n",
       "\n",
       "    .dataframe thead th {\n",
       "        text-align: right;\n",
       "    }\n",
       "</style>\n",
       "<table border=\"1\" class=\"dataframe\">\n",
       "  <thead>\n",
       "    <tr style=\"text-align: right;\">\n",
       "      <th></th>\n",
       "      <th>app_id</th>\n",
       "      <th>positive_ratio</th>\n",
       "      <th>user_reviews</th>\n",
       "      <th>price_final</th>\n",
       "      <th>price_original</th>\n",
       "      <th>discount</th>\n",
       "    </tr>\n",
       "  </thead>\n",
       "  <tbody>\n",
       "    <tr>\n",
       "      <th>count</th>\n",
       "      <td>19903.00</td>\n",
       "      <td>19903.00</td>\n",
       "      <td>19903.00</td>\n",
       "      <td>19903.00</td>\n",
       "      <td>19903.00</td>\n",
       "      <td>19903.00</td>\n",
       "    </tr>\n",
       "    <tr>\n",
       "      <th>mean</th>\n",
       "      <td>1397368.76</td>\n",
       "      <td>79.84</td>\n",
       "      <td>1063.12</td>\n",
       "      <td>11.44</td>\n",
       "      <td>12.23</td>\n",
       "      <td>6.59</td>\n",
       "    </tr>\n",
       "    <tr>\n",
       "      <th>std</th>\n",
       "      <td>409650.57</td>\n",
       "      <td>17.48</td>\n",
       "      <td>10086.25</td>\n",
       "      <td>12.78</td>\n",
       "      <td>13.08</td>\n",
       "      <td>19.87</td>\n",
       "    </tr>\n",
       "    <tr>\n",
       "      <th>min</th>\n",
       "      <td>1313.00</td>\n",
       "      <td>0.00</td>\n",
       "      <td>10.00</td>\n",
       "      <td>0.27</td>\n",
       "      <td>0.90</td>\n",
       "      <td>0.00</td>\n",
       "    </tr>\n",
       "    <tr>\n",
       "      <th>25%</th>\n",
       "      <td>1099445.00</td>\n",
       "      <td>71.00</td>\n",
       "      <td>17.00</td>\n",
       "      <td>2.99</td>\n",
       "      <td>3.99</td>\n",
       "      <td>0.00</td>\n",
       "    </tr>\n",
       "    <tr>\n",
       "      <th>50%</th>\n",
       "      <td>1369630.00</td>\n",
       "      <td>84.00</td>\n",
       "      <td>40.00</td>\n",
       "      <td>7.99</td>\n",
       "      <td>9.99</td>\n",
       "      <td>0.00</td>\n",
       "    </tr>\n",
       "    <tr>\n",
       "      <th>75%</th>\n",
       "      <td>1702595.00</td>\n",
       "      <td>93.00</td>\n",
       "      <td>156.00</td>\n",
       "      <td>14.99</td>\n",
       "      <td>14.99</td>\n",
       "      <td>0.00</td>\n",
       "    </tr>\n",
       "    <tr>\n",
       "      <th>max</th>\n",
       "      <td>2319990.00</td>\n",
       "      <td>100.00</td>\n",
       "      <td>521326.00</td>\n",
       "      <td>199.99</td>\n",
       "      <td>199.99</td>\n",
       "      <td>90.00</td>\n",
       "    </tr>\n",
       "  </tbody>\n",
       "</table>\n",
       "</div>"
      ],
      "text/plain": [
       "           app_id  positive_ratio  user_reviews  price_final  price_original  \\\n",
       "count    19903.00        19903.00      19903.00     19903.00        19903.00   \n",
       "mean   1397368.76           79.84       1063.12        11.44           12.23   \n",
       "std     409650.57           17.48      10086.25        12.78           13.08   \n",
       "min       1313.00            0.00         10.00         0.27            0.90   \n",
       "25%    1099445.00           71.00         17.00         2.99            3.99   \n",
       "50%    1369630.00           84.00         40.00         7.99            9.99   \n",
       "75%    1702595.00           93.00        156.00        14.99           14.99   \n",
       "max    2319990.00          100.00     521326.00       199.99          199.99   \n",
       "\n",
       "       discount  \n",
       "count  19903.00  \n",
       "mean       6.59  \n",
       "std       19.87  \n",
       "min        0.00  \n",
       "25%        0.00  \n",
       "50%        0.00  \n",
       "75%        0.00  \n",
       "max       90.00  "
      ]
     },
     "execution_count": 5,
     "metadata": {},
     "output_type": "execute_result"
    }
   ],
   "source": [
    "df_gamesFiltered = df_gamesFiltered.astype({'date_release':'datetime64[ns]'})\n",
    "df_gamesFiltered = df_gamesFiltered[df_gamesFiltered['date_release'] > '01-01-2019']\n",
    "\n",
    "df_gamesFiltered.describe().round(2)"
   ]
  },
  {
   "cell_type": "markdown",
   "id": "0cbaca7a",
   "metadata": {},
   "source": [
    "## Check for blank data\n"
   ]
  },
  {
   "cell_type": "code",
   "execution_count": 6,
   "id": "05d7c0d3",
   "metadata": {},
   "outputs": [
    {
     "name": "stdout",
     "output_type": "stream",
     "text": [
      "Column app_id has 0 blank values.\n",
      "Column title has 0 blank values.\n",
      "Column date_release has 0 blank values.\n",
      "Column win has 0 blank values.\n",
      "Column mac has 0 blank values.\n",
      "Column linux has 0 blank values.\n",
      "Column rating has 0 blank values.\n",
      "Column positive_ratio has 0 blank values.\n",
      "Column user_reviews has 0 blank values.\n",
      "Column price_final has 0 blank values.\n",
      "Column price_original has 0 blank values.\n",
      "Column discount has 0 blank values.\n",
      "Column steam_deck has 0 blank values.\n"
     ]
    }
   ],
   "source": [
    "def check_blanks(df):\n",
    "    for col in df.columns:\n",
    "        num_blanks = df[col].isna().sum()\n",
    "        print(f\"Column {col} has {num_blanks} blank values.\")\n",
    "check_blanks(df_gamesFiltered)"
   ]
  },
  {
   "attachments": {},
   "cell_type": "markdown",
   "id": "dc1655b3",
   "metadata": {},
   "source": [
    "No columns are missing data which is a good thing"
   ]
  },
  {
   "attachments": {},
   "cell_type": "markdown",
   "id": "4f2d619f",
   "metadata": {},
   "source": [
    "## EDA Summary\n",
    "\n",
    "After cleaning and observing the data. We have determined that there is a large disparity in prices across many titles. The largest differenced is noticable between the max and 75th percentile of the prices of games. There are also not many discount opportunities as we can see that from the 0th to the 75th percentile, there are no discount values. The overall positive review ratio are relatively good since even at the 25th percentile it is around 71% positive reviews.  \n",
    "\n",
    "With this filtered view, we will be utilizing the app_id to only pull the necessary games from the web scraped steamdb data. This cut down of roughly 26,000 data points will be much easier to handle and will be a sufficient sample size for this project. "
   ]
  },
  {
   "attachments": {},
   "cell_type": "markdown",
   "id": "74efb4c1",
   "metadata": {},
   "source": [
    "# Loading SteamDB data "
   ]
  },
  {
   "cell_type": "code",
   "execution_count": 7,
   "id": "21f0ad81",
   "metadata": {},
   "outputs": [],
   "source": [
    "lowest_price_df = pd.read_csv('output_file.csv')"
   ]
  },
  {
   "cell_type": "code",
   "execution_count": 8,
   "id": "3c962e96",
   "metadata": {},
   "outputs": [
    {
     "data": {
      "text/plain": [
       "app_id                     int64\n",
       "title                     object\n",
       "date_release      datetime64[ns]\n",
       "win                         bool\n",
       "mac                         bool\n",
       "linux                       bool\n",
       "rating                    object\n",
       "positive_ratio             int64\n",
       "user_reviews               int64\n",
       "price_final              float64\n",
       "price_original           float64\n",
       "discount                 float64\n",
       "steam_deck                  bool\n",
       "lowest_price              object\n",
       "dtype: object"
      ]
     },
     "execution_count": 8,
     "metadata": {},
     "output_type": "execute_result"
    }
   ],
   "source": [
    "merged_df = pd.merge(df_gamesFiltered, lowest_price_df, on='app_id')\n",
    "merged_df.dtypes"
   ]
  },
  {
   "attachments": {},
   "cell_type": "markdown",
   "id": "455d1539",
   "metadata": {},
   "source": [
    "## Cleaning lowest price"
   ]
  },
  {
   "cell_type": "code",
   "execution_count": 9,
   "id": "d5e79d44",
   "metadata": {},
   "outputs": [],
   "source": [
    "merged_df = merged_df.applymap(lambda x: x.strip().lower() if isinstance(x, str) else x)\n",
    "merged_df['lowest_price'] = merged_df['lowest_price'].replace('[\\$,]', '',regex=True).astype('float')\n"
   ]
  },
  {
   "attachments": {},
   "cell_type": "markdown",
   "id": "10388e5c",
   "metadata": {},
   "source": [
    "# Creating the Test-Train split data partitions"
   ]
  },
  {
   "cell_type": "code",
   "execution_count": 10,
   "id": "137d7cff",
   "metadata": {},
   "outputs": [],
   "source": [
    "features = ['positive_ratio', 'user_reviews', 'price_final', 'price_original', 'lowest_price']\n",
    "target = 'discount'\n",
    "X = merged_df[features]\n",
    "y = merged_df[target]\n",
    "# Split the dataset into training and testing sets\n",
    "X_train, X_test, y_train, y_test = train_test_split(X, \n",
    "                                                    y, \n",
    "                                                    test_size=0.2, \n",
    "                                                    random_state=42)\n",
    "\n"
   ]
  },
  {
   "attachments": {},
   "cell_type": "markdown",
   "id": "562a613d",
   "metadata": {},
   "source": [
    "# Scaling the numeric data "
   ]
  },
  {
   "cell_type": "code",
   "execution_count": 11,
   "id": "69ada9be",
   "metadata": {},
   "outputs": [],
   "source": [
    "X_train = X_train.copy()\n",
    "X_test = X_test.copy()"
   ]
  },
  {
   "cell_type": "code",
   "execution_count": 12,
   "id": "b0b8f2cb",
   "metadata": {},
   "outputs": [],
   "source": [
    "scaler = StandardScaler()\n",
    "scaler.fit(X_train[features]) #all of our features are numeric\n",
    "\n",
    "X_train[features] = scaler.transform(X_train[features])"
   ]
  },
  {
   "cell_type": "code",
   "execution_count": 13,
   "id": "664a0189",
   "metadata": {},
   "outputs": [
    {
     "data": {
      "text/html": [
       "<div>\n",
       "<style scoped>\n",
       "    .dataframe tbody tr th:only-of-type {\n",
       "        vertical-align: middle;\n",
       "    }\n",
       "\n",
       "    .dataframe tbody tr th {\n",
       "        vertical-align: top;\n",
       "    }\n",
       "\n",
       "    .dataframe thead th {\n",
       "        text-align: right;\n",
       "    }\n",
       "</style>\n",
       "<table border=\"1\" class=\"dataframe\">\n",
       "  <thead>\n",
       "    <tr style=\"text-align: right;\">\n",
       "      <th></th>\n",
       "      <th>positive_ratio</th>\n",
       "      <th>user_reviews</th>\n",
       "      <th>price_final</th>\n",
       "      <th>price_original</th>\n",
       "      <th>lowest_price</th>\n",
       "    </tr>\n",
       "  </thead>\n",
       "  <tbody>\n",
       "    <tr>\n",
       "      <th>11387</th>\n",
       "      <td>1.040593</td>\n",
       "      <td>-0.105156</td>\n",
       "      <td>-0.119981</td>\n",
       "      <td>-0.177107</td>\n",
       "      <td>-0.361159</td>\n",
       "    </tr>\n",
       "    <tr>\n",
       "      <th>13611</th>\n",
       "      <td>-0.276904</td>\n",
       "      <td>-0.110576</td>\n",
       "      <td>-0.507559</td>\n",
       "      <td>-0.556179</td>\n",
       "      <td>-0.690830</td>\n",
       "    </tr>\n",
       "    <tr>\n",
       "      <th>9639</th>\n",
       "      <td>0.066791</td>\n",
       "      <td>-0.076674</td>\n",
       "      <td>-0.817622</td>\n",
       "      <td>-0.859436</td>\n",
       "      <td>-0.759511</td>\n",
       "    </tr>\n",
       "    <tr>\n",
       "      <th>6389</th>\n",
       "      <td>0.983311</td>\n",
       "      <td>-0.107281</td>\n",
       "      <td>-0.507559</td>\n",
       "      <td>-0.556179</td>\n",
       "      <td>-0.484786</td>\n",
       "    </tr>\n",
       "    <tr>\n",
       "      <th>664</th>\n",
       "      <td>0.639616</td>\n",
       "      <td>-0.093040</td>\n",
       "      <td>0.267598</td>\n",
       "      <td>0.201965</td>\n",
       "      <td>-0.374895</td>\n",
       "    </tr>\n",
       "  </tbody>\n",
       "</table>\n",
       "</div>"
      ],
      "text/plain": [
       "       positive_ratio  user_reviews  price_final  price_original  lowest_price\n",
       "11387        1.040593     -0.105156    -0.119981       -0.177107     -0.361159\n",
       "13611       -0.276904     -0.110576    -0.507559       -0.556179     -0.690830\n",
       "9639         0.066791     -0.076674    -0.817622       -0.859436     -0.759511\n",
       "6389         0.983311     -0.107281    -0.507559       -0.556179     -0.484786\n",
       "664          0.639616     -0.093040     0.267598        0.201965     -0.374895"
      ]
     },
     "execution_count": 13,
     "metadata": {},
     "output_type": "execute_result"
    }
   ],
   "source": [
    "X_train.head()"
   ]
  },
  {
   "cell_type": "code",
   "execution_count": 14,
   "id": "cae10aba",
   "metadata": {},
   "outputs": [],
   "source": [
    "X_train = X_train.fillna(0) #filling in the few blanks from the lowest price variable"
   ]
  },
  {
   "cell_type": "code",
   "execution_count": 15,
   "id": "c988352f",
   "metadata": {},
   "outputs": [],
   "source": [
    "#Scaling features\n",
    "svm = SVC()\n",
    "svm.fit(X_train,y_train)\n",
    "X_test[features] = scaler.transform(X_test[features])"
   ]
  },
  {
   "attachments": {},
   "cell_type": "markdown",
   "id": "cf142ae6",
   "metadata": {},
   "source": [
    "### We will be building out the algorithms in the order of Logistic Regression, Random Forest Regression, and XGBoost (known as gradient boost). This order is on purpose to show why the first two algorithms were not the right ones for our project. These algorithms will follow the same format of building the inital model - hyperparameter tuning - implementing hyperparameters to the model - cross validation. Only the XGBoost model will move further due to it being the best algorithm for our project."
   ]
  },
  {
   "attachments": {},
   "cell_type": "markdown",
   "id": "120742b8",
   "metadata": {},
   "source": [
    "# Building the Logistics Regression model"
   ]
  },
  {
   "cell_type": "code",
   "execution_count": 15,
   "id": "161738de",
   "metadata": {},
   "outputs": [
    {
     "data": {
      "text/html": [
       "<style>#sk-container-id-1 {color: black;background-color: white;}#sk-container-id-1 pre{padding: 0;}#sk-container-id-1 div.sk-toggleable {background-color: white;}#sk-container-id-1 label.sk-toggleable__label {cursor: pointer;display: block;width: 100%;margin-bottom: 0;padding: 0.3em;box-sizing: border-box;text-align: center;}#sk-container-id-1 label.sk-toggleable__label-arrow:before {content: \"▸\";float: left;margin-right: 0.25em;color: #696969;}#sk-container-id-1 label.sk-toggleable__label-arrow:hover:before {color: black;}#sk-container-id-1 div.sk-estimator:hover label.sk-toggleable__label-arrow:before {color: black;}#sk-container-id-1 div.sk-toggleable__content {max-height: 0;max-width: 0;overflow: hidden;text-align: left;background-color: #f0f8ff;}#sk-container-id-1 div.sk-toggleable__content pre {margin: 0.2em;color: black;border-radius: 0.25em;background-color: #f0f8ff;}#sk-container-id-1 input.sk-toggleable__control:checked~div.sk-toggleable__content {max-height: 200px;max-width: 100%;overflow: auto;}#sk-container-id-1 input.sk-toggleable__control:checked~label.sk-toggleable__label-arrow:before {content: \"▾\";}#sk-container-id-1 div.sk-estimator input.sk-toggleable__control:checked~label.sk-toggleable__label {background-color: #d4ebff;}#sk-container-id-1 div.sk-label input.sk-toggleable__control:checked~label.sk-toggleable__label {background-color: #d4ebff;}#sk-container-id-1 input.sk-hidden--visually {border: 0;clip: rect(1px 1px 1px 1px);clip: rect(1px, 1px, 1px, 1px);height: 1px;margin: -1px;overflow: hidden;padding: 0;position: absolute;width: 1px;}#sk-container-id-1 div.sk-estimator {font-family: monospace;background-color: #f0f8ff;border: 1px dotted black;border-radius: 0.25em;box-sizing: border-box;margin-bottom: 0.5em;}#sk-container-id-1 div.sk-estimator:hover {background-color: #d4ebff;}#sk-container-id-1 div.sk-parallel-item::after {content: \"\";width: 100%;border-bottom: 1px solid gray;flex-grow: 1;}#sk-container-id-1 div.sk-label:hover label.sk-toggleable__label {background-color: #d4ebff;}#sk-container-id-1 div.sk-serial::before {content: \"\";position: absolute;border-left: 1px solid gray;box-sizing: border-box;top: 0;bottom: 0;left: 50%;z-index: 0;}#sk-container-id-1 div.sk-serial {display: flex;flex-direction: column;align-items: center;background-color: white;padding-right: 0.2em;padding-left: 0.2em;position: relative;}#sk-container-id-1 div.sk-item {position: relative;z-index: 1;}#sk-container-id-1 div.sk-parallel {display: flex;align-items: stretch;justify-content: center;background-color: white;position: relative;}#sk-container-id-1 div.sk-item::before, #sk-container-id-1 div.sk-parallel-item::before {content: \"\";position: absolute;border-left: 1px solid gray;box-sizing: border-box;top: 0;bottom: 0;left: 50%;z-index: -1;}#sk-container-id-1 div.sk-parallel-item {display: flex;flex-direction: column;z-index: 1;position: relative;background-color: white;}#sk-container-id-1 div.sk-parallel-item:first-child::after {align-self: flex-end;width: 50%;}#sk-container-id-1 div.sk-parallel-item:last-child::after {align-self: flex-start;width: 50%;}#sk-container-id-1 div.sk-parallel-item:only-child::after {width: 0;}#sk-container-id-1 div.sk-dashed-wrapped {border: 1px dashed gray;margin: 0 0.4em 0.5em 0.4em;box-sizing: border-box;padding-bottom: 0.4em;background-color: white;}#sk-container-id-1 div.sk-label label {font-family: monospace;font-weight: bold;display: inline-block;line-height: 1.2em;}#sk-container-id-1 div.sk-label-container {text-align: center;}#sk-container-id-1 div.sk-container {/* jupyter's `normalize.less` sets `[hidden] { display: none; }` but bootstrap.min.css set `[hidden] { display: none !important; }` so we also need the `!important` here to be able to override the default hidden behavior on the sphinx rendered scikit-learn.org. See: https://github.com/scikit-learn/scikit-learn/issues/21755 */display: inline-block !important;position: relative;}#sk-container-id-1 div.sk-text-repr-fallback {display: none;}</style><div id=\"sk-container-id-1\" class=\"sk-top-container\"><div class=\"sk-text-repr-fallback\"><pre>LogisticRegression(C=0.01, multi_class=&#x27;ovr&#x27;, solver=&#x27;newton-cg&#x27;)</pre><b>In a Jupyter environment, please rerun this cell to show the HTML representation or trust the notebook. <br />On GitHub, the HTML representation is unable to render, please try loading this page with nbviewer.org.</b></div><div class=\"sk-container\" hidden><div class=\"sk-item\"><div class=\"sk-estimator sk-toggleable\"><input class=\"sk-toggleable__control sk-hidden--visually\" id=\"sk-estimator-id-1\" type=\"checkbox\" checked><label for=\"sk-estimator-id-1\" class=\"sk-toggleable__label sk-toggleable__label-arrow\">LogisticRegression</label><div class=\"sk-toggleable__content\"><pre>LogisticRegression(C=0.01, multi_class=&#x27;ovr&#x27;, solver=&#x27;newton-cg&#x27;)</pre></div></div></div></div></div>"
      ],
      "text/plain": [
       "LogisticRegression(C=0.01, multi_class='ovr', solver='newton-cg')"
      ]
     },
     "execution_count": 15,
     "metadata": {},
     "output_type": "execute_result"
    }
   ],
   "source": [
    "log_reg = LogisticRegression(penalty = 'l2',\n",
    "                             C = 0.01,\n",
    "                             fit_intercept = True,\n",
    "                             solver = 'newton-cg',\n",
    "                             max_iter = 100,\n",
    "                             multi_class = 'ovr')\n",
    "log_reg.fit(X_train, y_train)\n"
   ]
  },
  {
   "cell_type": "code",
   "execution_count": 16,
   "id": "08fdf5c5",
   "metadata": {},
   "outputs": [
    {
     "name": "stdout",
     "output_type": "stream",
     "text": [
      "Accuracy score 0.8872\n"
     ]
    }
   ],
   "source": [
    "print('Accuracy score', log_reg.score(X_test,y_test).round(4))"
   ]
  },
  {
   "attachments": {},
   "cell_type": "markdown",
   "id": "aaf382b9",
   "metadata": {},
   "source": [
    "# Logistic Regression Hyperparameter tuning"
   ]
  },
  {
   "cell_type": "code",
   "execution_count": 17,
   "id": "c27d876d",
   "metadata": {},
   "outputs": [
    {
     "name": "stderr",
     "output_type": "stream",
     "text": [
      "c:\\Users\\Rival\\OneDrive\\Documents\\Python Scripts\\lib\\site-packages\\sklearn\\model_selection\\_split.py:700: UserWarning: The least populated class in y has only 1 members, which is less than n_splits=5.\n",
      "  warnings.warn(\n",
      "c:\\Users\\Rival\\OneDrive\\Documents\\Python Scripts\\lib\\site-packages\\sklearn\\linear_model\\_logistic.py:1173: FutureWarning: `penalty='none'`has been deprecated in 1.2 and will be removed in 1.4. To keep the past behaviour, set `penalty=None`.\n",
      "  warnings.warn(\n",
      "c:\\Users\\Rival\\OneDrive\\Documents\\Python Scripts\\lib\\site-packages\\sklearn\\linear_model\\_logistic.py:1181: UserWarning: Setting penalty=None will ignore the C and l1_ratio parameters\n",
      "  warnings.warn(\n",
      "c:\\Users\\Rival\\OneDrive\\Documents\\Python Scripts\\lib\\site-packages\\sklearn\\linear_model\\_sag.py:350: ConvergenceWarning: The max_iter was reached which means the coef_ did not converge\n",
      "  warnings.warn(\n",
      "c:\\Users\\Rival\\OneDrive\\Documents\\Python Scripts\\lib\\site-packages\\sklearn\\linear_model\\_logistic.py:1173: FutureWarning: `penalty='none'`has been deprecated in 1.2 and will be removed in 1.4. To keep the past behaviour, set `penalty=None`.\n",
      "  warnings.warn(\n",
      "c:\\Users\\Rival\\OneDrive\\Documents\\Python Scripts\\lib\\site-packages\\sklearn\\linear_model\\_logistic.py:1181: UserWarning: Setting penalty=None will ignore the C and l1_ratio parameters\n",
      "  warnings.warn(\n",
      "c:\\Users\\Rival\\OneDrive\\Documents\\Python Scripts\\lib\\site-packages\\sklearn\\linear_model\\_sag.py:350: ConvergenceWarning: The max_iter was reached which means the coef_ did not converge\n",
      "  warnings.warn(\n",
      "c:\\Users\\Rival\\OneDrive\\Documents\\Python Scripts\\lib\\site-packages\\sklearn\\linear_model\\_logistic.py:1173: FutureWarning: `penalty='none'`has been deprecated in 1.2 and will be removed in 1.4. To keep the past behaviour, set `penalty=None`.\n",
      "  warnings.warn(\n",
      "c:\\Users\\Rival\\OneDrive\\Documents\\Python Scripts\\lib\\site-packages\\sklearn\\linear_model\\_logistic.py:1181: UserWarning: Setting penalty=None will ignore the C and l1_ratio parameters\n",
      "  warnings.warn(\n",
      "c:\\Users\\Rival\\OneDrive\\Documents\\Python Scripts\\lib\\site-packages\\sklearn\\linear_model\\_sag.py:350: ConvergenceWarning: The max_iter was reached which means the coef_ did not converge\n",
      "  warnings.warn(\n",
      "c:\\Users\\Rival\\OneDrive\\Documents\\Python Scripts\\lib\\site-packages\\sklearn\\linear_model\\_logistic.py:1173: FutureWarning: `penalty='none'`has been deprecated in 1.2 and will be removed in 1.4. To keep the past behaviour, set `penalty=None`.\n",
      "  warnings.warn(\n",
      "c:\\Users\\Rival\\OneDrive\\Documents\\Python Scripts\\lib\\site-packages\\sklearn\\linear_model\\_logistic.py:1181: UserWarning: Setting penalty=None will ignore the C and l1_ratio parameters\n",
      "  warnings.warn(\n",
      "c:\\Users\\Rival\\OneDrive\\Documents\\Python Scripts\\lib\\site-packages\\sklearn\\linear_model\\_sag.py:350: ConvergenceWarning: The max_iter was reached which means the coef_ did not converge\n",
      "  warnings.warn(\n",
      "c:\\Users\\Rival\\OneDrive\\Documents\\Python Scripts\\lib\\site-packages\\sklearn\\linear_model\\_logistic.py:1173: FutureWarning: `penalty='none'`has been deprecated in 1.2 and will be removed in 1.4. To keep the past behaviour, set `penalty=None`.\n",
      "  warnings.warn(\n",
      "c:\\Users\\Rival\\OneDrive\\Documents\\Python Scripts\\lib\\site-packages\\sklearn\\linear_model\\_logistic.py:1181: UserWarning: Setting penalty=None will ignore the C and l1_ratio parameters\n",
      "  warnings.warn(\n",
      "c:\\Users\\Rival\\OneDrive\\Documents\\Python Scripts\\lib\\site-packages\\sklearn\\linear_model\\_sag.py:350: ConvergenceWarning: The max_iter was reached which means the coef_ did not converge\n",
      "  warnings.warn(\n",
      "c:\\Users\\Rival\\OneDrive\\Documents\\Python Scripts\\lib\\site-packages\\sklearn\\model_selection\\_validation.py:378: FitFailedWarning: \n",
      "30 fits failed out of a total of 50.\n",
      "The score on these train-test partitions for these parameters will be set to nan.\n",
      "If these failures are not expected, you can try to debug them by setting error_score='raise'.\n",
      "\n",
      "Below are more details about the failures:\n",
      "--------------------------------------------------------------------------------\n",
      "10 fits failed with the following error:\n",
      "Traceback (most recent call last):\n",
      "  File \"c:\\Users\\Rival\\OneDrive\\Documents\\Python Scripts\\lib\\site-packages\\sklearn\\model_selection\\_validation.py\", line 686, in _fit_and_score\n",
      "    estimator.fit(X_train, y_train, **fit_params)\n",
      "  File \"c:\\Users\\Rival\\OneDrive\\Documents\\Python Scripts\\lib\\site-packages\\sklearn\\linear_model\\_logistic.py\", line 1162, in fit\n",
      "    solver = _check_solver(self.solver, self.penalty, self.dual)\n",
      "  File \"c:\\Users\\Rival\\OneDrive\\Documents\\Python Scripts\\lib\\site-packages\\sklearn\\linear_model\\_logistic.py\", line 54, in _check_solver\n",
      "    raise ValueError(\n",
      "ValueError: Solver newton-cg supports only 'l2' or 'none' penalties, got elasticnet penalty.\n",
      "\n",
      "--------------------------------------------------------------------------------\n",
      "5 fits failed with the following error:\n",
      "Traceback (most recent call last):\n",
      "  File \"c:\\Users\\Rival\\OneDrive\\Documents\\Python Scripts\\lib\\site-packages\\sklearn\\model_selection\\_validation.py\", line 686, in _fit_and_score\n",
      "    estimator.fit(X_train, y_train, **fit_params)\n",
      "  File \"c:\\Users\\Rival\\OneDrive\\Documents\\Python Scripts\\lib\\site-packages\\sklearn\\linear_model\\_logistic.py\", line 1162, in fit\n",
      "    solver = _check_solver(self.solver, self.penalty, self.dual)\n",
      "  File \"c:\\Users\\Rival\\OneDrive\\Documents\\Python Scripts\\lib\\site-packages\\sklearn\\linear_model\\_logistic.py\", line 54, in _check_solver\n",
      "    raise ValueError(\n",
      "ValueError: Solver newton-cg supports only 'l2' or 'none' penalties, got l1 penalty.\n",
      "\n",
      "--------------------------------------------------------------------------------\n",
      "10 fits failed with the following error:\n",
      "Traceback (most recent call last):\n",
      "  File \"c:\\Users\\Rival\\OneDrive\\Documents\\Python Scripts\\lib\\site-packages\\sklearn\\model_selection\\_validation.py\", line 686, in _fit_and_score\n",
      "    estimator.fit(X_train, y_train, **fit_params)\n",
      "  File \"c:\\Users\\Rival\\OneDrive\\Documents\\Python Scripts\\lib\\site-packages\\sklearn\\linear_model\\_logistic.py\", line 1162, in fit\n",
      "    solver = _check_solver(self.solver, self.penalty, self.dual)\n",
      "  File \"c:\\Users\\Rival\\OneDrive\\Documents\\Python Scripts\\lib\\site-packages\\sklearn\\linear_model\\_logistic.py\", line 54, in _check_solver\n",
      "    raise ValueError(\n",
      "ValueError: Solver lbfgs supports only 'l2' or 'none' penalties, got elasticnet penalty.\n",
      "\n",
      "--------------------------------------------------------------------------------\n",
      "5 fits failed with the following error:\n",
      "Traceback (most recent call last):\n",
      "  File \"c:\\Users\\Rival\\OneDrive\\Documents\\Python Scripts\\lib\\site-packages\\sklearn\\model_selection\\_validation.py\", line 686, in _fit_and_score\n",
      "    estimator.fit(X_train, y_train, **fit_params)\n",
      "  File \"c:\\Users\\Rival\\OneDrive\\Documents\\Python Scripts\\lib\\site-packages\\sklearn\\linear_model\\_logistic.py\", line 1291, in fit\n",
      "    fold_coefs_ = Parallel(n_jobs=self.n_jobs, verbose=self.verbose, prefer=prefer)(\n",
      "  File \"c:\\Users\\Rival\\OneDrive\\Documents\\Python Scripts\\lib\\site-packages\\sklearn\\utils\\parallel.py\", line 63, in __call__\n",
      "    return super().__call__(iterable_with_config)\n",
      "  File \"c:\\Users\\Rival\\OneDrive\\Documents\\Python Scripts\\lib\\site-packages\\joblib\\parallel.py\", line 1085, in __call__\n",
      "    if self.dispatch_one_batch(iterator):\n",
      "  File \"c:\\Users\\Rival\\OneDrive\\Documents\\Python Scripts\\lib\\site-packages\\joblib\\parallel.py\", line 901, in dispatch_one_batch\n",
      "    self._dispatch(tasks)\n",
      "  File \"c:\\Users\\Rival\\OneDrive\\Documents\\Python Scripts\\lib\\site-packages\\joblib\\parallel.py\", line 819, in _dispatch\n",
      "    job = self._backend.apply_async(batch, callback=cb)\n",
      "  File \"c:\\Users\\Rival\\OneDrive\\Documents\\Python Scripts\\lib\\site-packages\\joblib\\_parallel_backends.py\", line 208, in apply_async\n",
      "    result = ImmediateResult(func)\n",
      "  File \"c:\\Users\\Rival\\OneDrive\\Documents\\Python Scripts\\lib\\site-packages\\joblib\\_parallel_backends.py\", line 597, in __init__\n",
      "    self.results = batch()\n",
      "  File \"c:\\Users\\Rival\\OneDrive\\Documents\\Python Scripts\\lib\\site-packages\\joblib\\parallel.py\", line 288, in __call__\n",
      "    return [func(*args, **kwargs)\n",
      "  File \"c:\\Users\\Rival\\OneDrive\\Documents\\Python Scripts\\lib\\site-packages\\joblib\\parallel.py\", line 288, in <listcomp>\n",
      "    return [func(*args, **kwargs)\n",
      "  File \"c:\\Users\\Rival\\OneDrive\\Documents\\Python Scripts\\lib\\site-packages\\sklearn\\utils\\parallel.py\", line 123, in __call__\n",
      "    return self.function(*args, **kwargs)\n",
      "  File \"c:\\Users\\Rival\\OneDrive\\Documents\\Python Scripts\\lib\\site-packages\\sklearn\\linear_model\\_logistic.py\", line 521, in _logistic_regression_path\n",
      "    alpha = (1.0 / C) * (1 - l1_ratio)\n",
      "TypeError: unsupported operand type(s) for -: 'int' and 'NoneType'\n",
      "\n",
      "  warnings.warn(some_fits_failed_message, FitFailedWarning)\n",
      "c:\\Users\\Rival\\OneDrive\\Documents\\Python Scripts\\lib\\site-packages\\sklearn\\model_selection\\_search.py:952: UserWarning: One or more of the test scores are non-finite: [       nan        nan        nan        nan        nan 0.92369031\n",
      " 0.91414382 0.92299938 0.9004522         nan]\n",
      "  warnings.warn(\n"
     ]
    },
    {
     "name": "stdout",
     "output_type": "stream",
     "text": [
      "These are the best Parameters for this model {'solver': 'newton-cg', 'penalty': 'l2', 'multi_class': 'multinomial', 'max_iter': 300, 'fit_intercept': False, 'C': 26}\n",
      "This is the best possible score 0.9237\n"
     ]
    }
   ],
   "source": [
    "log_params = {'penalty':  ['l1', 'l2', 'elasticnet', 'none'],\n",
    "              'C': np.arange(1,50,5),\n",
    "              'fit_intercept': [True, False],\n",
    "              'solver': ['newton-cg', 'lbfgs', 'liblinear', 'sag', 'saga'],\n",
    "              'max_iter': np.arange(100,1500,100),\n",
    "              'multi_class': ['ovr', 'multinomial']}\n",
    "\n",
    "log_grid = RandomizedSearchCV(\n",
    "    log_reg,\n",
    "    param_distributions=log_params,\n",
    "    n_iter=10,\n",
    "    cv=5,\n",
    "    random_state=42\n",
    ")\n",
    "log_grid.fit(X_train,y_train)\n",
    "\n",
    "print('These are the best Parameters for this model',log_grid.best_params_)\n",
    "print('This is the best possible score',log_grid.best_score_.round(4))\n"
   ]
  },
  {
   "attachments": {},
   "cell_type": "markdown",
   "id": "3506a6ee",
   "metadata": {},
   "source": [
    "### These were the outputs from the block above, we had to collapse the output due to it taking up too much space:\n",
    "These are the best Parameters for this model {'solver': 'newton-cg', 'penalty': 'l2', 'multi_class': 'multinomial', 'max_iter': 300, 'fit_intercept': False, 'C': 26}\n",
    "\n",
    "This is the best possible score 0.9237"
   ]
  },
  {
   "cell_type": "code",
   "execution_count": 18,
   "id": "aa42d6b9",
   "metadata": {},
   "outputs": [
    {
     "data": {
      "text/html": [
       "<style>#sk-container-id-2 {color: black;background-color: white;}#sk-container-id-2 pre{padding: 0;}#sk-container-id-2 div.sk-toggleable {background-color: white;}#sk-container-id-2 label.sk-toggleable__label {cursor: pointer;display: block;width: 100%;margin-bottom: 0;padding: 0.3em;box-sizing: border-box;text-align: center;}#sk-container-id-2 label.sk-toggleable__label-arrow:before {content: \"▸\";float: left;margin-right: 0.25em;color: #696969;}#sk-container-id-2 label.sk-toggleable__label-arrow:hover:before {color: black;}#sk-container-id-2 div.sk-estimator:hover label.sk-toggleable__label-arrow:before {color: black;}#sk-container-id-2 div.sk-toggleable__content {max-height: 0;max-width: 0;overflow: hidden;text-align: left;background-color: #f0f8ff;}#sk-container-id-2 div.sk-toggleable__content pre {margin: 0.2em;color: black;border-radius: 0.25em;background-color: #f0f8ff;}#sk-container-id-2 input.sk-toggleable__control:checked~div.sk-toggleable__content {max-height: 200px;max-width: 100%;overflow: auto;}#sk-container-id-2 input.sk-toggleable__control:checked~label.sk-toggleable__label-arrow:before {content: \"▾\";}#sk-container-id-2 div.sk-estimator input.sk-toggleable__control:checked~label.sk-toggleable__label {background-color: #d4ebff;}#sk-container-id-2 div.sk-label input.sk-toggleable__control:checked~label.sk-toggleable__label {background-color: #d4ebff;}#sk-container-id-2 input.sk-hidden--visually {border: 0;clip: rect(1px 1px 1px 1px);clip: rect(1px, 1px, 1px, 1px);height: 1px;margin: -1px;overflow: hidden;padding: 0;position: absolute;width: 1px;}#sk-container-id-2 div.sk-estimator {font-family: monospace;background-color: #f0f8ff;border: 1px dotted black;border-radius: 0.25em;box-sizing: border-box;margin-bottom: 0.5em;}#sk-container-id-2 div.sk-estimator:hover {background-color: #d4ebff;}#sk-container-id-2 div.sk-parallel-item::after {content: \"\";width: 100%;border-bottom: 1px solid gray;flex-grow: 1;}#sk-container-id-2 div.sk-label:hover label.sk-toggleable__label {background-color: #d4ebff;}#sk-container-id-2 div.sk-serial::before {content: \"\";position: absolute;border-left: 1px solid gray;box-sizing: border-box;top: 0;bottom: 0;left: 50%;z-index: 0;}#sk-container-id-2 div.sk-serial {display: flex;flex-direction: column;align-items: center;background-color: white;padding-right: 0.2em;padding-left: 0.2em;position: relative;}#sk-container-id-2 div.sk-item {position: relative;z-index: 1;}#sk-container-id-2 div.sk-parallel {display: flex;align-items: stretch;justify-content: center;background-color: white;position: relative;}#sk-container-id-2 div.sk-item::before, #sk-container-id-2 div.sk-parallel-item::before {content: \"\";position: absolute;border-left: 1px solid gray;box-sizing: border-box;top: 0;bottom: 0;left: 50%;z-index: -1;}#sk-container-id-2 div.sk-parallel-item {display: flex;flex-direction: column;z-index: 1;position: relative;background-color: white;}#sk-container-id-2 div.sk-parallel-item:first-child::after {align-self: flex-end;width: 50%;}#sk-container-id-2 div.sk-parallel-item:last-child::after {align-self: flex-start;width: 50%;}#sk-container-id-2 div.sk-parallel-item:only-child::after {width: 0;}#sk-container-id-2 div.sk-dashed-wrapped {border: 1px dashed gray;margin: 0 0.4em 0.5em 0.4em;box-sizing: border-box;padding-bottom: 0.4em;background-color: white;}#sk-container-id-2 div.sk-label label {font-family: monospace;font-weight: bold;display: inline-block;line-height: 1.2em;}#sk-container-id-2 div.sk-label-container {text-align: center;}#sk-container-id-2 div.sk-container {/* jupyter's `normalize.less` sets `[hidden] { display: none; }` but bootstrap.min.css set `[hidden] { display: none !important; }` so we also need the `!important` here to be able to override the default hidden behavior on the sphinx rendered scikit-learn.org. See: https://github.com/scikit-learn/scikit-learn/issues/21755 */display: inline-block !important;position: relative;}#sk-container-id-2 div.sk-text-repr-fallback {display: none;}</style><div id=\"sk-container-id-2\" class=\"sk-top-container\"><div class=\"sk-text-repr-fallback\"><pre>LogisticRegression(C=26, fit_intercept=False, max_iter=300,\n",
       "                   multi_class=&#x27;multinomial&#x27;, solver=&#x27;newton-cg&#x27;)</pre><b>In a Jupyter environment, please rerun this cell to show the HTML representation or trust the notebook. <br />On GitHub, the HTML representation is unable to render, please try loading this page with nbviewer.org.</b></div><div class=\"sk-container\" hidden><div class=\"sk-item\"><div class=\"sk-estimator sk-toggleable\"><input class=\"sk-toggleable__control sk-hidden--visually\" id=\"sk-estimator-id-2\" type=\"checkbox\" checked><label for=\"sk-estimator-id-2\" class=\"sk-toggleable__label sk-toggleable__label-arrow\">LogisticRegression</label><div class=\"sk-toggleable__content\"><pre>LogisticRegression(C=26, fit_intercept=False, max_iter=300,\n",
       "                   multi_class=&#x27;multinomial&#x27;, solver=&#x27;newton-cg&#x27;)</pre></div></div></div></div></div>"
      ],
      "text/plain": [
       "LogisticRegression(C=26, fit_intercept=False, max_iter=300,\n",
       "                   multi_class='multinomial', solver='newton-cg')"
      ]
     },
     "execution_count": 18,
     "metadata": {},
     "output_type": "execute_result"
    }
   ],
   "source": [
    "log_reg = LogisticRegression(penalty = 'l2',\n",
    "                             C = 26,\n",
    "                             fit_intercept = False,\n",
    "                             solver = 'newton-cg',\n",
    "                             max_iter = 300,\n",
    "                             multi_class = 'multinomial')\n",
    "log_reg.fit(X_train, y_train)\n"
   ]
  },
  {
   "cell_type": "code",
   "execution_count": 19,
   "id": "345bc734",
   "metadata": {},
   "outputs": [
    {
     "name": "stdout",
     "output_type": "stream",
     "text": [
      "Accuracy score after hyperparameter tuning 0.9314\n"
     ]
    }
   ],
   "source": [
    "print('Accuracy score after hyperparameter tuning', log_reg.score(X_test,y_test).round(4))"
   ]
  },
  {
   "attachments": {},
   "cell_type": "markdown",
   "id": "2b0abafc",
   "metadata": {},
   "source": [
    "# Logisitc Regression Cross Validation"
   ]
  },
  {
   "cell_type": "code",
   "execution_count": 20,
   "id": "5f0c8787",
   "metadata": {},
   "outputs": [
    {
     "name": "stderr",
     "output_type": "stream",
     "text": [
      "c:\\Users\\Rival\\OneDrive\\Documents\\Python Scripts\\lib\\site-packages\\sklearn\\model_selection\\_split.py:700: UserWarning: The least populated class in y has only 1 members, which is less than n_splits=10.\n",
      "  warnings.warn(\n",
      "c:\\Users\\Rival\\OneDrive\\Documents\\Python Scripts\\lib\\site-packages\\sklearn\\utils\\optimize.py:210: ConvergenceWarning: newton-cg failed to converge. Increase the number of iterations.\n",
      "  warnings.warn(\n",
      "c:\\Users\\Rival\\OneDrive\\Documents\\Python Scripts\\lib\\site-packages\\sklearn\\model_selection\\_validation.py:794: UserWarning: Scoring failed. The score on this train-test partition for these parameters will be set to nan. Details: \n",
      "Traceback (most recent call last):\n",
      "  File \"c:\\Users\\Rival\\OneDrive\\Documents\\Python Scripts\\lib\\site-packages\\sklearn\\metrics\\_scorer.py\", line 115, in __call__\n",
      "    score = scorer._score(cached_call, estimator, *args, **kwargs)\n",
      "  File \"c:\\Users\\Rival\\OneDrive\\Documents\\Python Scripts\\lib\\site-packages\\sklearn\\metrics\\_scorer.py\", line 276, in _score\n",
      "    y_pred = method_caller(estimator, \"predict\", X)\n",
      "  File \"c:\\Users\\Rival\\OneDrive\\Documents\\Python Scripts\\lib\\site-packages\\sklearn\\metrics\\_scorer.py\", line 73, in _cached_call\n",
      "    return getattr(estimator, method)(*args, **kwargs)\n",
      "  File \"c:\\Users\\Rival\\OneDrive\\Documents\\Python Scripts\\lib\\site-packages\\sklearn\\linear_model\\_base.py\", line 419, in predict\n",
      "    scores = self.decision_function(X)\n",
      "  File \"c:\\Users\\Rival\\OneDrive\\Documents\\Python Scripts\\lib\\site-packages\\sklearn\\linear_model\\_base.py\", line 400, in decision_function\n",
      "    X = self._validate_data(X, accept_sparse=\"csr\", reset=False)\n",
      "  File \"c:\\Users\\Rival\\OneDrive\\Documents\\Python Scripts\\lib\\site-packages\\sklearn\\base.py\", line 565, in _validate_data\n",
      "    X = check_array(X, input_name=\"X\", **check_params)\n",
      "  File \"c:\\Users\\Rival\\OneDrive\\Documents\\Python Scripts\\lib\\site-packages\\sklearn\\utils\\validation.py\", line 921, in check_array\n",
      "    _assert_all_finite(\n",
      "  File \"c:\\Users\\Rival\\OneDrive\\Documents\\Python Scripts\\lib\\site-packages\\sklearn\\utils\\validation.py\", line 161, in _assert_all_finite\n",
      "    raise ValueError(msg_err)\n",
      "ValueError: Input X contains NaN.\n",
      "LogisticRegression does not accept missing values encoded as NaN natively. For supervised learning, you might want to consider sklearn.ensemble.HistGradientBoostingClassifier and Regressor which accept missing values encoded as NaNs natively. Alternatively, it is possible to preprocess the data, for instance by using an imputer transformer in a pipeline or drop samples with missing values. See https://scikit-learn.org/stable/modules/impute.html You can find a list of all estimators that handle NaN values at the following page: https://scikit-learn.org/stable/modules/impute.html#estimators-that-handle-nan-values\n",
      "\n",
      "  warnings.warn(\n",
      "c:\\Users\\Rival\\OneDrive\\Documents\\Python Scripts\\lib\\site-packages\\sklearn\\model_selection\\_validation.py:378: FitFailedWarning: \n",
      "9 fits failed out of a total of 10.\n",
      "The score on these train-test partitions for these parameters will be set to nan.\n",
      "If these failures are not expected, you can try to debug them by setting error_score='raise'.\n",
      "\n",
      "Below are more details about the failures:\n",
      "--------------------------------------------------------------------------------\n",
      "9 fits failed with the following error:\n",
      "Traceback (most recent call last):\n",
      "  File \"c:\\Users\\Rival\\OneDrive\\Documents\\Python Scripts\\lib\\site-packages\\sklearn\\model_selection\\_validation.py\", line 686, in _fit_and_score\n",
      "    estimator.fit(X_train, y_train, **fit_params)\n",
      "  File \"c:\\Users\\Rival\\OneDrive\\Documents\\Python Scripts\\lib\\site-packages\\sklearn\\linear_model\\_logistic.py\", line 1196, in fit\n",
      "    X, y = self._validate_data(\n",
      "  File \"c:\\Users\\Rival\\OneDrive\\Documents\\Python Scripts\\lib\\site-packages\\sklearn\\base.py\", line 584, in _validate_data\n",
      "    X, y = check_X_y(X, y, **check_params)\n",
      "  File \"c:\\Users\\Rival\\OneDrive\\Documents\\Python Scripts\\lib\\site-packages\\sklearn\\utils\\validation.py\", line 1106, in check_X_y\n",
      "    X = check_array(\n",
      "  File \"c:\\Users\\Rival\\OneDrive\\Documents\\Python Scripts\\lib\\site-packages\\sklearn\\utils\\validation.py\", line 921, in check_array\n",
      "    _assert_all_finite(\n",
      "  File \"c:\\Users\\Rival\\OneDrive\\Documents\\Python Scripts\\lib\\site-packages\\sklearn\\utils\\validation.py\", line 161, in _assert_all_finite\n",
      "    raise ValueError(msg_err)\n",
      "ValueError: Input X contains NaN.\n",
      "LogisticRegression does not accept missing values encoded as NaN natively. For supervised learning, you might want to consider sklearn.ensemble.HistGradientBoostingClassifier and Regressor which accept missing values encoded as NaNs natively. Alternatively, it is possible to preprocess the data, for instance by using an imputer transformer in a pipeline or drop samples with missing values. See https://scikit-learn.org/stable/modules/impute.html You can find a list of all estimators that handle NaN values at the following page: https://scikit-learn.org/stable/modules/impute.html#estimators-that-handle-nan-values\n",
      "\n",
      "  warnings.warn(some_fits_failed_message, FitFailedWarning)\n"
     ]
    },
    {
     "data": {
      "image/png": "[encoded data removed]",
      "text/plain": [
       "<Figure size 432x288 with 1 Axes>"
      ]
     },
     "metadata": {
      "needs_background": "light"
     },
     "output_type": "display_data"
    }
   ],
   "source": [
    "# Cross validation \n",
    "\n",
    "#Cross Validation Fold line plot\n",
    "cv = 10\n",
    "log_scores = cross_val_score(log_reg, X, y, cv=cv, scoring='r2')\n",
    "\n",
    "plt.plot(log_scores)\n",
    "plt.xlabel('Fold')\n",
    "plt.xticks(range(cv+1))\n",
    "plt.ylabel('R^2 Score')\n",
    "plt.title('Cross-validation Scores')\n",
    "plt.show()\n"
   ]
  },
  {
   "cell_type": "code",
   "execution_count": 21,
   "id": "6434e24e",
   "metadata": {},
   "outputs": [
    {
     "name": "stdout",
     "output_type": "stream",
     "text": [
      "Mean R^2 score: nan\n",
      "Standard deviation of R^2 scores: nan\n"
     ]
    }
   ],
   "source": [
    "# Print the mean and standard deviation of the scores\n",
    "print('Mean R^2 score:', np.mean(log_scores).round(3))\n",
    "print('Standard deviation of R^2 scores:', np.std(log_scores).round(3))"
   ]
  },
  {
   "attachments": {},
   "cell_type": "markdown",
   "id": "df44613d",
   "metadata": {},
   "source": [
    "The issue here is that since Logistic regressions do not accept nan values natively for cross validation. We cannot assess the accuracy of the model. We could fix that issue via filling in the values, however, we do have other algorithms that we can utilize that does accept nan values natively. Thus, Logistic regression will not be the algorithm that we are going to utilize for this project. "
   ]
  },
  {
   "attachments": {},
   "cell_type": "markdown",
   "id": "352f941f",
   "metadata": {},
   "source": [
    "# Building the Random Forest Regression Model"
   ]
  },
  {
   "cell_type": "code",
   "execution_count": 22,
   "id": "1f359a57",
   "metadata": {},
   "outputs": [
    {
     "data": {
      "text/html": [
       "<style>#sk-container-id-3 {color: black;background-color: white;}#sk-container-id-3 pre{padding: 0;}#sk-container-id-3 div.sk-toggleable {background-color: white;}#sk-container-id-3 label.sk-toggleable__label {cursor: pointer;display: block;width: 100%;margin-bottom: 0;padding: 0.3em;box-sizing: border-box;text-align: center;}#sk-container-id-3 label.sk-toggleable__label-arrow:before {content: \"▸\";float: left;margin-right: 0.25em;color: #696969;}#sk-container-id-3 label.sk-toggleable__label-arrow:hover:before {color: black;}#sk-container-id-3 div.sk-estimator:hover label.sk-toggleable__label-arrow:before {color: black;}#sk-container-id-3 div.sk-toggleable__content {max-height: 0;max-width: 0;overflow: hidden;text-align: left;background-color: #f0f8ff;}#sk-container-id-3 div.sk-toggleable__content pre {margin: 0.2em;color: black;border-radius: 0.25em;background-color: #f0f8ff;}#sk-container-id-3 input.sk-toggleable__control:checked~div.sk-toggleable__content {max-height: 200px;max-width: 100%;overflow: auto;}#sk-container-id-3 input.sk-toggleable__control:checked~label.sk-toggleable__label-arrow:before {content: \"▾\";}#sk-container-id-3 div.sk-estimator input.sk-toggleable__control:checked~label.sk-toggleable__label {background-color: #d4ebff;}#sk-container-id-3 div.sk-label input.sk-toggleable__control:checked~label.sk-toggleable__label {background-color: #d4ebff;}#sk-container-id-3 input.sk-hidden--visually {border: 0;clip: rect(1px 1px 1px 1px);clip: rect(1px, 1px, 1px, 1px);height: 1px;margin: -1px;overflow: hidden;padding: 0;position: absolute;width: 1px;}#sk-container-id-3 div.sk-estimator {font-family: monospace;background-color: #f0f8ff;border: 1px dotted black;border-radius: 0.25em;box-sizing: border-box;margin-bottom: 0.5em;}#sk-container-id-3 div.sk-estimator:hover {background-color: #d4ebff;}#sk-container-id-3 div.sk-parallel-item::after {content: \"\";width: 100%;border-bottom: 1px solid gray;flex-grow: 1;}#sk-container-id-3 div.sk-label:hover label.sk-toggleable__label {background-color: #d4ebff;}#sk-container-id-3 div.sk-serial::before {content: \"\";position: absolute;border-left: 1px solid gray;box-sizing: border-box;top: 0;bottom: 0;left: 50%;z-index: 0;}#sk-container-id-3 div.sk-serial {display: flex;flex-direction: column;align-items: center;background-color: white;padding-right: 0.2em;padding-left: 0.2em;position: relative;}#sk-container-id-3 div.sk-item {position: relative;z-index: 1;}#sk-container-id-3 div.sk-parallel {display: flex;align-items: stretch;justify-content: center;background-color: white;position: relative;}#sk-container-id-3 div.sk-item::before, #sk-container-id-3 div.sk-parallel-item::before {content: \"\";position: absolute;border-left: 1px solid gray;box-sizing: border-box;top: 0;bottom: 0;left: 50%;z-index: -1;}#sk-container-id-3 div.sk-parallel-item {display: flex;flex-direction: column;z-index: 1;position: relative;background-color: white;}#sk-container-id-3 div.sk-parallel-item:first-child::after {align-self: flex-end;width: 50%;}#sk-container-id-3 div.sk-parallel-item:last-child::after {align-self: flex-start;width: 50%;}#sk-container-id-3 div.sk-parallel-item:only-child::after {width: 0;}#sk-container-id-3 div.sk-dashed-wrapped {border: 1px dashed gray;margin: 0 0.4em 0.5em 0.4em;box-sizing: border-box;padding-bottom: 0.4em;background-color: white;}#sk-container-id-3 div.sk-label label {font-family: monospace;font-weight: bold;display: inline-block;line-height: 1.2em;}#sk-container-id-3 div.sk-label-container {text-align: center;}#sk-container-id-3 div.sk-container {/* jupyter's `normalize.less` sets `[hidden] { display: none; }` but bootstrap.min.css set `[hidden] { display: none !important; }` so we also need the `!important` here to be able to override the default hidden behavior on the sphinx rendered scikit-learn.org. See: https://github.com/scikit-learn/scikit-learn/issues/21755 */display: inline-block !important;position: relative;}#sk-container-id-3 div.sk-text-repr-fallback {display: none;}</style><div id=\"sk-container-id-3\" class=\"sk-top-container\"><div class=\"sk-text-repr-fallback\"><pre>RandomForestRegressor(max_depth=10, min_samples_leaf=2, random_state=42)</pre><b>In a Jupyter environment, please rerun this cell to show the HTML representation or trust the notebook. <br />On GitHub, the HTML representation is unable to render, please try loading this page with nbviewer.org.</b></div><div class=\"sk-container\" hidden><div class=\"sk-item\"><div class=\"sk-estimator sk-toggleable\"><input class=\"sk-toggleable__control sk-hidden--visually\" id=\"sk-estimator-id-3\" type=\"checkbox\" checked><label for=\"sk-estimator-id-3\" class=\"sk-toggleable__label sk-toggleable__label-arrow\">RandomForestRegressor</label><div class=\"sk-toggleable__content\"><pre>RandomForestRegressor(max_depth=10, min_samples_leaf=2, random_state=42)</pre></div></div></div></div></div>"
      ],
      "text/plain": [
       "RandomForestRegressor(max_depth=10, min_samples_leaf=2, random_state=42)"
      ]
     },
     "execution_count": 22,
     "metadata": {},
     "output_type": "execute_result"
    }
   ],
   "source": [
    "rand_for_reg = RandomForestRegressor(n_estimators=100,\n",
    "                                     max_depth=10,\n",
    "                                     min_samples_split=2,\n",
    "                                     min_samples_leaf=2,\n",
    "                                     random_state=42)\n",
    "rand_for_reg.fit(X_train,y_train)\n"
   ]
  },
  {
   "cell_type": "code",
   "execution_count": 23,
   "id": "6ec58c50",
   "metadata": {},
   "outputs": [
    {
     "name": "stdout",
     "output_type": "stream",
     "text": [
      "Accuracy score 0.9941\n"
     ]
    }
   ],
   "source": [
    "print('Accuracy score', rand_for_reg.score(X_test,y_test).round(4))"
   ]
  },
  {
   "attachments": {},
   "cell_type": "markdown",
   "id": "6fb84314",
   "metadata": {},
   "source": [
    "# Random Forest Regression Hyperparameter Tuning"
   ]
  },
  {
   "cell_type": "code",
   "execution_count": 24,
   "id": "6ef13ea1",
   "metadata": {},
   "outputs": [
    {
     "data": {
      "text/html": [
       "<style>#sk-container-id-4 {color: black;background-color: white;}#sk-container-id-4 pre{padding: 0;}#sk-container-id-4 div.sk-toggleable {background-color: white;}#sk-container-id-4 label.sk-toggleable__label {cursor: pointer;display: block;width: 100%;margin-bottom: 0;padding: 0.3em;box-sizing: border-box;text-align: center;}#sk-container-id-4 label.sk-toggleable__label-arrow:before {content: \"▸\";float: left;margin-right: 0.25em;color: #696969;}#sk-container-id-4 label.sk-toggleable__label-arrow:hover:before {color: black;}#sk-container-id-4 div.sk-estimator:hover label.sk-toggleable__label-arrow:before {color: black;}#sk-container-id-4 div.sk-toggleable__content {max-height: 0;max-width: 0;overflow: hidden;text-align: left;background-color: #f0f8ff;}#sk-container-id-4 div.sk-toggleable__content pre {margin: 0.2em;color: black;border-radius: 0.25em;background-color: #f0f8ff;}#sk-container-id-4 input.sk-toggleable__control:checked~div.sk-toggleable__content {max-height: 200px;max-width: 100%;overflow: auto;}#sk-container-id-4 input.sk-toggleable__control:checked~label.sk-toggleable__label-arrow:before {content: \"▾\";}#sk-container-id-4 div.sk-estimator input.sk-toggleable__control:checked~label.sk-toggleable__label {background-color: #d4ebff;}#sk-container-id-4 div.sk-label input.sk-toggleable__control:checked~label.sk-toggleable__label {background-color: #d4ebff;}#sk-container-id-4 input.sk-hidden--visually {border: 0;clip: rect(1px 1px 1px 1px);clip: rect(1px, 1px, 1px, 1px);height: 1px;margin: -1px;overflow: hidden;padding: 0;position: absolute;width: 1px;}#sk-container-id-4 div.sk-estimator {font-family: monospace;background-color: #f0f8ff;border: 1px dotted black;border-radius: 0.25em;box-sizing: border-box;margin-bottom: 0.5em;}#sk-container-id-4 div.sk-estimator:hover {background-color: #d4ebff;}#sk-container-id-4 div.sk-parallel-item::after {content: \"\";width: 100%;border-bottom: 1px solid gray;flex-grow: 1;}#sk-container-id-4 div.sk-label:hover label.sk-toggleable__label {background-color: #d4ebff;}#sk-container-id-4 div.sk-serial::before {content: \"\";position: absolute;border-left: 1px solid gray;box-sizing: border-box;top: 0;bottom: 0;left: 50%;z-index: 0;}#sk-container-id-4 div.sk-serial {display: flex;flex-direction: column;align-items: center;background-color: white;padding-right: 0.2em;padding-left: 0.2em;position: relative;}#sk-container-id-4 div.sk-item {position: relative;z-index: 1;}#sk-container-id-4 div.sk-parallel {display: flex;align-items: stretch;justify-content: center;background-color: white;position: relative;}#sk-container-id-4 div.sk-item::before, #sk-container-id-4 div.sk-parallel-item::before {content: \"\";position: absolute;border-left: 1px solid gray;box-sizing: border-box;top: 0;bottom: 0;left: 50%;z-index: -1;}#sk-container-id-4 div.sk-parallel-item {display: flex;flex-direction: column;z-index: 1;position: relative;background-color: white;}#sk-container-id-4 div.sk-parallel-item:first-child::after {align-self: flex-end;width: 50%;}#sk-container-id-4 div.sk-parallel-item:last-child::after {align-self: flex-start;width: 50%;}#sk-container-id-4 div.sk-parallel-item:only-child::after {width: 0;}#sk-container-id-4 div.sk-dashed-wrapped {border: 1px dashed gray;margin: 0 0.4em 0.5em 0.4em;box-sizing: border-box;padding-bottom: 0.4em;background-color: white;}#sk-container-id-4 div.sk-label label {font-family: monospace;font-weight: bold;display: inline-block;line-height: 1.2em;}#sk-container-id-4 div.sk-label-container {text-align: center;}#sk-container-id-4 div.sk-container {/* jupyter's `normalize.less` sets `[hidden] { display: none; }` but bootstrap.min.css set `[hidden] { display: none !important; }` so we also need the `!important` here to be able to override the default hidden behavior on the sphinx rendered scikit-learn.org. See: https://github.com/scikit-learn/scikit-learn/issues/21755 */display: inline-block !important;position: relative;}#sk-container-id-4 div.sk-text-repr-fallback {display: none;}</style><div id=\"sk-container-id-4\" class=\"sk-top-container\"><div class=\"sk-text-repr-fallback\"><pre>RandomizedSearchCV(cv=5,\n",
       "                   estimator=RandomForestRegressor(max_depth=10,\n",
       "                                                   min_samples_leaf=2,\n",
       "                                                   random_state=42),\n",
       "                   param_distributions={&#x27;max_depth&#x27;: array([ 1, 11, 21, 31, 41]),\n",
       "                                        &#x27;min_samples_leaf&#x27;: array([1, 2, 3, 4, 5, 6, 7, 8, 9]),\n",
       "                                        &#x27;min_samples_split&#x27;: array([1, 2, 3, 4, 5, 6, 7, 8, 9]),\n",
       "                                        &#x27;n_estimators&#x27;: array([ 50, 100, 150, 200, 250, 300, 350, 400, 450])},\n",
       "                   random_state=42)</pre><b>In a Jupyter environment, please rerun this cell to show the HTML representation or trust the notebook. <br />On GitHub, the HTML representation is unable to render, please try loading this page with nbviewer.org.</b></div><div class=\"sk-container\" hidden><div class=\"sk-item sk-dashed-wrapped\"><div class=\"sk-label-container\"><div class=\"sk-label sk-toggleable\"><input class=\"sk-toggleable__control sk-hidden--visually\" id=\"sk-estimator-id-4\" type=\"checkbox\" ><label for=\"sk-estimator-id-4\" class=\"sk-toggleable__label sk-toggleable__label-arrow\">RandomizedSearchCV</label><div class=\"sk-toggleable__content\"><pre>RandomizedSearchCV(cv=5,\n",
       "                   estimator=RandomForestRegressor(max_depth=10,\n",
       "                                                   min_samples_leaf=2,\n",
       "                                                   random_state=42),\n",
       "                   param_distributions={&#x27;max_depth&#x27;: array([ 1, 11, 21, 31, 41]),\n",
       "                                        &#x27;min_samples_leaf&#x27;: array([1, 2, 3, 4, 5, 6, 7, 8, 9]),\n",
       "                                        &#x27;min_samples_split&#x27;: array([1, 2, 3, 4, 5, 6, 7, 8, 9]),\n",
       "                                        &#x27;n_estimators&#x27;: array([ 50, 100, 150, 200, 250, 300, 350, 400, 450])},\n",
       "                   random_state=42)</pre></div></div></div><div class=\"sk-parallel\"><div class=\"sk-parallel-item\"><div class=\"sk-item\"><div class=\"sk-label-container\"><div class=\"sk-label sk-toggleable\"><input class=\"sk-toggleable__control sk-hidden--visually\" id=\"sk-estimator-id-5\" type=\"checkbox\" ><label for=\"sk-estimator-id-5\" class=\"sk-toggleable__label sk-toggleable__label-arrow\">estimator: RandomForestRegressor</label><div class=\"sk-toggleable__content\"><pre>RandomForestRegressor(max_depth=10, min_samples_leaf=2, random_state=42)</pre></div></div></div><div class=\"sk-serial\"><div class=\"sk-item\"><div class=\"sk-estimator sk-toggleable\"><input class=\"sk-toggleable__control sk-hidden--visually\" id=\"sk-estimator-id-6\" type=\"checkbox\" ><label for=\"sk-estimator-id-6\" class=\"sk-toggleable__label sk-toggleable__label-arrow\">RandomForestRegressor</label><div class=\"sk-toggleable__content\"><pre>RandomForestRegressor(max_depth=10, min_samples_leaf=2, random_state=42)</pre></div></div></div></div></div></div></div></div></div></div>"
      ],
      "text/plain": [
       "RandomizedSearchCV(cv=5,\n",
       "                   estimator=RandomForestRegressor(max_depth=10,\n",
       "                                                   min_samples_leaf=2,\n",
       "                                                   random_state=42),\n",
       "                   param_distributions={'max_depth': array([ 1, 11, 21, 31, 41]),\n",
       "                                        'min_samples_leaf': array([1, 2, 3, 4, 5, 6, 7, 8, 9]),\n",
       "                                        'min_samples_split': array([1, 2, 3, 4, 5, 6, 7, 8, 9]),\n",
       "                                        'n_estimators': array([ 50, 100, 150, 200, 250, 300, 350, 400, 450])},\n",
       "                   random_state=42)"
      ]
     },
     "execution_count": 24,
     "metadata": {},
     "output_type": "execute_result"
    }
   ],
   "source": [
    "rand_for_params = {'n_estimators': np.arange(50,500,50),  \n",
    "                  'max_depth': np.arange(1,50,10),  \n",
    "                  'min_samples_split': np.arange(1,10),  \n",
    "                  'min_samples_leaf': np.arange(1,10)}\n",
    "\n",
    "rand_for_grid = RandomizedSearchCV(\n",
    "    rand_for_reg,\n",
    "    param_distributions=rand_for_params,\n",
    "    n_iter=10,\n",
    "    cv=5,\n",
    "    random_state=42\n",
    ")\n",
    "rand_for_grid.fit(X_train,y_train)"
   ]
  },
  {
   "cell_type": "code",
   "execution_count": 25,
   "id": "ec41f8f2",
   "metadata": {},
   "outputs": [
    {
     "name": "stdout",
     "output_type": "stream",
     "text": [
      "These are the best Parameters for this model {'n_estimators': 300, 'min_samples_split': 2, 'min_samples_leaf': 3, 'max_depth': 41}\n",
      "This is the best possible score 0.9946\n"
     ]
    }
   ],
   "source": [
    "print('These are the best Parameters for this model',rand_for_grid.best_params_)\n",
    "print('This is the best possible score',rand_for_grid.best_score_.round(4))"
   ]
  },
  {
   "cell_type": "code",
   "execution_count": 26,
   "id": "74e6a9a9",
   "metadata": {},
   "outputs": [
    {
     "data": {
      "text/html": [
       "<style>#sk-container-id-5 {color: black;background-color: white;}#sk-container-id-5 pre{padding: 0;}#sk-container-id-5 div.sk-toggleable {background-color: white;}#sk-container-id-5 label.sk-toggleable__label {cursor: pointer;display: block;width: 100%;margin-bottom: 0;padding: 0.3em;box-sizing: border-box;text-align: center;}#sk-container-id-5 label.sk-toggleable__label-arrow:before {content: \"▸\";float: left;margin-right: 0.25em;color: #696969;}#sk-container-id-5 label.sk-toggleable__label-arrow:hover:before {color: black;}#sk-container-id-5 div.sk-estimator:hover label.sk-toggleable__label-arrow:before {color: black;}#sk-container-id-5 div.sk-toggleable__content {max-height: 0;max-width: 0;overflow: hidden;text-align: left;background-color: #f0f8ff;}#sk-container-id-5 div.sk-toggleable__content pre {margin: 0.2em;color: black;border-radius: 0.25em;background-color: #f0f8ff;}#sk-container-id-5 input.sk-toggleable__control:checked~div.sk-toggleable__content {max-height: 200px;max-width: 100%;overflow: auto;}#sk-container-id-5 input.sk-toggleable__control:checked~label.sk-toggleable__label-arrow:before {content: \"▾\";}#sk-container-id-5 div.sk-estimator input.sk-toggleable__control:checked~label.sk-toggleable__label {background-color: #d4ebff;}#sk-container-id-5 div.sk-label input.sk-toggleable__control:checked~label.sk-toggleable__label {background-color: #d4ebff;}#sk-container-id-5 input.sk-hidden--visually {border: 0;clip: rect(1px 1px 1px 1px);clip: rect(1px, 1px, 1px, 1px);height: 1px;margin: -1px;overflow: hidden;padding: 0;position: absolute;width: 1px;}#sk-container-id-5 div.sk-estimator {font-family: monospace;background-color: #f0f8ff;border: 1px dotted black;border-radius: 0.25em;box-sizing: border-box;margin-bottom: 0.5em;}#sk-container-id-5 div.sk-estimator:hover {background-color: #d4ebff;}#sk-container-id-5 div.sk-parallel-item::after {content: \"\";width: 100%;border-bottom: 1px solid gray;flex-grow: 1;}#sk-container-id-5 div.sk-label:hover label.sk-toggleable__label {background-color: #d4ebff;}#sk-container-id-5 div.sk-serial::before {content: \"\";position: absolute;border-left: 1px solid gray;box-sizing: border-box;top: 0;bottom: 0;left: 50%;z-index: 0;}#sk-container-id-5 div.sk-serial {display: flex;flex-direction: column;align-items: center;background-color: white;padding-right: 0.2em;padding-left: 0.2em;position: relative;}#sk-container-id-5 div.sk-item {position: relative;z-index: 1;}#sk-container-id-5 div.sk-parallel {display: flex;align-items: stretch;justify-content: center;background-color: white;position: relative;}#sk-container-id-5 div.sk-item::before, #sk-container-id-5 div.sk-parallel-item::before {content: \"\";position: absolute;border-left: 1px solid gray;box-sizing: border-box;top: 0;bottom: 0;left: 50%;z-index: -1;}#sk-container-id-5 div.sk-parallel-item {display: flex;flex-direction: column;z-index: 1;position: relative;background-color: white;}#sk-container-id-5 div.sk-parallel-item:first-child::after {align-self: flex-end;width: 50%;}#sk-container-id-5 div.sk-parallel-item:last-child::after {align-self: flex-start;width: 50%;}#sk-container-id-5 div.sk-parallel-item:only-child::after {width: 0;}#sk-container-id-5 div.sk-dashed-wrapped {border: 1px dashed gray;margin: 0 0.4em 0.5em 0.4em;box-sizing: border-box;padding-bottom: 0.4em;background-color: white;}#sk-container-id-5 div.sk-label label {font-family: monospace;font-weight: bold;display: inline-block;line-height: 1.2em;}#sk-container-id-5 div.sk-label-container {text-align: center;}#sk-container-id-5 div.sk-container {/* jupyter's `normalize.less` sets `[hidden] { display: none; }` but bootstrap.min.css set `[hidden] { display: none !important; }` so we also need the `!important` here to be able to override the default hidden behavior on the sphinx rendered scikit-learn.org. See: https://github.com/scikit-learn/scikit-learn/issues/21755 */display: inline-block !important;position: relative;}#sk-container-id-5 div.sk-text-repr-fallback {display: none;}</style><div id=\"sk-container-id-5\" class=\"sk-top-container\"><div class=\"sk-text-repr-fallback\"><pre>RandomForestRegressor(max_depth=41, min_samples_leaf=3, n_estimators=300,\n",
       "                      random_state=42)</pre><b>In a Jupyter environment, please rerun this cell to show the HTML representation or trust the notebook. <br />On GitHub, the HTML representation is unable to render, please try loading this page with nbviewer.org.</b></div><div class=\"sk-container\" hidden><div class=\"sk-item\"><div class=\"sk-estimator sk-toggleable\"><input class=\"sk-toggleable__control sk-hidden--visually\" id=\"sk-estimator-id-7\" type=\"checkbox\" checked><label for=\"sk-estimator-id-7\" class=\"sk-toggleable__label sk-toggleable__label-arrow\">RandomForestRegressor</label><div class=\"sk-toggleable__content\"><pre>RandomForestRegressor(max_depth=41, min_samples_leaf=3, n_estimators=300,\n",
       "                      random_state=42)</pre></div></div></div></div></div>"
      ],
      "text/plain": [
       "RandomForestRegressor(max_depth=41, min_samples_leaf=3, n_estimators=300,\n",
       "                      random_state=42)"
      ]
     },
     "execution_count": 26,
     "metadata": {},
     "output_type": "execute_result"
    }
   ],
   "source": [
    "rand_for_reg = RandomForestRegressor(n_estimators=300,\n",
    "                                     max_depth=41,\n",
    "                                     min_samples_split=2,\n",
    "                                     min_samples_leaf=3,\n",
    "                                     random_state=42)\n",
    "rand_for_reg.fit(X_train,y_train)\n"
   ]
  },
  {
   "cell_type": "code",
   "execution_count": 27,
   "id": "cf5883c9",
   "metadata": {},
   "outputs": [
    {
     "name": "stdout",
     "output_type": "stream",
     "text": [
      "Accuracy score after hyperparameter tuning 0.9968\n"
     ]
    }
   ],
   "source": [
    "print('Accuracy score after hyperparameter tuning', rand_for_reg.score(X_test,y_test).round(4))"
   ]
  },
  {
   "attachments": {},
   "cell_type": "markdown",
   "id": "2de800ba",
   "metadata": {},
   "source": [
    "# Random Forest Regression Cross validation"
   ]
  },
  {
   "cell_type": "code",
   "execution_count": 28,
   "id": "b911a1b2",
   "metadata": {},
   "outputs": [
    {
     "name": "stderr",
     "output_type": "stream",
     "text": [
      "c:\\Users\\Rival\\OneDrive\\Documents\\Python Scripts\\lib\\site-packages\\sklearn\\model_selection\\_validation.py:794: UserWarning: Scoring failed. The score on this train-test partition for these parameters will be set to nan. Details: \n",
      "Traceback (most recent call last):\n",
      "  File \"c:\\Users\\Rival\\OneDrive\\Documents\\Python Scripts\\lib\\site-packages\\sklearn\\metrics\\_scorer.py\", line 115, in __call__\n",
      "    score = scorer._score(cached_call, estimator, *args, **kwargs)\n",
      "  File \"c:\\Users\\Rival\\OneDrive\\Documents\\Python Scripts\\lib\\site-packages\\sklearn\\metrics\\_scorer.py\", line 276, in _score\n",
      "    y_pred = method_caller(estimator, \"predict\", X)\n",
      "  File \"c:\\Users\\Rival\\OneDrive\\Documents\\Python Scripts\\lib\\site-packages\\sklearn\\metrics\\_scorer.py\", line 73, in _cached_call\n",
      "    return getattr(estimator, method)(*args, **kwargs)\n",
      "  File \"c:\\Users\\Rival\\OneDrive\\Documents\\Python Scripts\\lib\\site-packages\\sklearn\\ensemble\\_forest.py\", line 981, in predict\n",
      "    X = self._validate_X_predict(X)\n",
      "  File \"c:\\Users\\Rival\\OneDrive\\Documents\\Python Scripts\\lib\\site-packages\\sklearn\\ensemble\\_forest.py\", line 602, in _validate_X_predict\n",
      "    X = self._validate_data(X, dtype=DTYPE, accept_sparse=\"csr\", reset=False)\n",
      "  File \"c:\\Users\\Rival\\OneDrive\\Documents\\Python Scripts\\lib\\site-packages\\sklearn\\base.py\", line 565, in _validate_data\n",
      "    X = check_array(X, input_name=\"X\", **check_params)\n",
      "  File \"c:\\Users\\Rival\\OneDrive\\Documents\\Python Scripts\\lib\\site-packages\\sklearn\\utils\\validation.py\", line 921, in check_array\n",
      "    _assert_all_finite(\n",
      "  File \"c:\\Users\\Rival\\OneDrive\\Documents\\Python Scripts\\lib\\site-packages\\sklearn\\utils\\validation.py\", line 161, in _assert_all_finite\n",
      "    raise ValueError(msg_err)\n",
      "ValueError: Input X contains NaN.\n",
      "RandomForestRegressor does not accept missing values encoded as NaN natively. For supervised learning, you might want to consider sklearn.ensemble.HistGradientBoostingClassifier and Regressor which accept missing values encoded as NaNs natively. Alternatively, it is possible to preprocess the data, for instance by using an imputer transformer in a pipeline or drop samples with missing values. See https://scikit-learn.org/stable/modules/impute.html You can find a list of all estimators that handle NaN values at the following page: https://scikit-learn.org/stable/modules/impute.html#estimators-that-handle-nan-values\n",
      "\n",
      "  warnings.warn(\n",
      "c:\\Users\\Rival\\OneDrive\\Documents\\Python Scripts\\lib\\site-packages\\sklearn\\model_selection\\_validation.py:378: FitFailedWarning: \n",
      "9 fits failed out of a total of 10.\n",
      "The score on these train-test partitions for these parameters will be set to nan.\n",
      "If these failures are not expected, you can try to debug them by setting error_score='raise'.\n",
      "\n",
      "Below are more details about the failures:\n",
      "--------------------------------------------------------------------------------\n",
      "9 fits failed with the following error:\n",
      "Traceback (most recent call last):\n",
      "  File \"c:\\Users\\Rival\\OneDrive\\Documents\\Python Scripts\\lib\\site-packages\\sklearn\\model_selection\\_validation.py\", line 686, in _fit_and_score\n",
      "    estimator.fit(X_train, y_train, **fit_params)\n",
      "  File \"c:\\Users\\Rival\\OneDrive\\Documents\\Python Scripts\\lib\\site-packages\\sklearn\\ensemble\\_forest.py\", line 345, in fit\n",
      "    X, y = self._validate_data(\n",
      "  File \"c:\\Users\\Rival\\OneDrive\\Documents\\Python Scripts\\lib\\site-packages\\sklearn\\base.py\", line 584, in _validate_data\n",
      "    X, y = check_X_y(X, y, **check_params)\n",
      "  File \"c:\\Users\\Rival\\OneDrive\\Documents\\Python Scripts\\lib\\site-packages\\sklearn\\utils\\validation.py\", line 1106, in check_X_y\n",
      "    X = check_array(\n",
      "  File \"c:\\Users\\Rival\\OneDrive\\Documents\\Python Scripts\\lib\\site-packages\\sklearn\\utils\\validation.py\", line 921, in check_array\n",
      "    _assert_all_finite(\n",
      "  File \"c:\\Users\\Rival\\OneDrive\\Documents\\Python Scripts\\lib\\site-packages\\sklearn\\utils\\validation.py\", line 161, in _assert_all_finite\n",
      "    raise ValueError(msg_err)\n",
      "ValueError: Input X contains NaN.\n",
      "RandomForestRegressor does not accept missing values encoded as NaN natively. For supervised learning, you might want to consider sklearn.ensemble.HistGradientBoostingClassifier and Regressor which accept missing values encoded as NaNs natively. Alternatively, it is possible to preprocess the data, for instance by using an imputer transformer in a pipeline or drop samples with missing values. See https://scikit-learn.org/stable/modules/impute.html You can find a list of all estimators that handle NaN values at the following page: https://scikit-learn.org/stable/modules/impute.html#estimators-that-handle-nan-values\n",
      "\n",
      "  warnings.warn(some_fits_failed_message, FitFailedWarning)\n"
     ]
    },
    {
     "data": {
      "image/png": "[encoded data removed]",
      "text/plain": [
       "<Figure size 432x288 with 1 Axes>"
      ]
     },
     "metadata": {
      "needs_background": "light"
     },
     "output_type": "display_data"
    }
   ],
   "source": [
    "# Cross validation \n",
    "\n",
    "#Cross Validation Fold line plot\n",
    "cv = 10\n",
    "rand_scores = cross_val_score(rand_for_reg, X, y, cv=cv, scoring='r2')\n",
    "\n",
    "plt.plot(rand_scores)\n",
    "plt.xlabel('Fold')\n",
    "plt.xticks(range(cv+1))\n",
    "plt.ylabel('R^2 Score')\n",
    "plt.title('Cross-validation Scores')\n",
    "plt.show()\n"
   ]
  },
  {
   "cell_type": "code",
   "execution_count": 29,
   "id": "1829fc65",
   "metadata": {},
   "outputs": [
    {
     "name": "stdout",
     "output_type": "stream",
     "text": [
      "Mean R^2 score: nan\n",
      "Standard deviation of R^2 scores: nan\n"
     ]
    }
   ],
   "source": [
    "# Print the mean and standard deviation of the scores\n",
    "print('Mean R^2 score:', np.mean(rand_scores).round(3))\n",
    "print('Standard deviation of R^2 scores:', np.std(rand_scores).round(3))"
   ]
  },
  {
   "attachments": {},
   "cell_type": "markdown",
   "id": "81deff04",
   "metadata": {},
   "source": [
    "Although both algorithms had high accuracy scores after the hypertuning, both the Logistics Regression and Random Forest Regression cross validations did not work due to Nan values. Also, for both the algorithms, it took more than 2 minutes for the randomized search cv and fit to process. This is ineffective because from what we can see later, the randomized search cv was much more efficient for the XGBoost algorithm. As well as the fact that no other data manipulation steps were needed in order to cross validate the XGBoost model. \n",
    "\n",
    "Since both algorithms could not even get passed the cross validation model, we thought it was better for us to move onto XGBoost since we cannot effectively assess the accuracy of the model."
   ]
  },
  {
   "attachments": {},
   "cell_type": "markdown",
   "id": "119d6a0a",
   "metadata": {},
   "source": [
    "# Building the XGBoost prediction model "
   ]
  },
  {
   "cell_type": "code",
   "execution_count": 16,
   "id": "8df6ee2c",
   "metadata": {},
   "outputs": [
    {
     "data": {
      "text/html": [
       "<style>#sk-container-id-1 {color: black;background-color: white;}#sk-container-id-1 pre{padding: 0;}#sk-container-id-1 div.sk-toggleable {background-color: white;}#sk-container-id-1 label.sk-toggleable__label {cursor: pointer;display: block;width: 100%;margin-bottom: 0;padding: 0.3em;box-sizing: border-box;text-align: center;}#sk-container-id-1 label.sk-toggleable__label-arrow:before {content: \"▸\";float: left;margin-right: 0.25em;color: #696969;}#sk-container-id-1 label.sk-toggleable__label-arrow:hover:before {color: black;}#sk-container-id-1 div.sk-estimator:hover label.sk-toggleable__label-arrow:before {color: black;}#sk-container-id-1 div.sk-toggleable__content {max-height: 0;max-width: 0;overflow: hidden;text-align: left;background-color: #f0f8ff;}#sk-container-id-1 div.sk-toggleable__content pre {margin: 0.2em;color: black;border-radius: 0.25em;background-color: #f0f8ff;}#sk-container-id-1 input.sk-toggleable__control:checked~div.sk-toggleable__content {max-height: 200px;max-width: 100%;overflow: auto;}#sk-container-id-1 input.sk-toggleable__control:checked~label.sk-toggleable__label-arrow:before {content: \"▾\";}#sk-container-id-1 div.sk-estimator input.sk-toggleable__control:checked~label.sk-toggleable__label {background-color: #d4ebff;}#sk-container-id-1 div.sk-label input.sk-toggleable__control:checked~label.sk-toggleable__label {background-color: #d4ebff;}#sk-container-id-1 input.sk-hidden--visually {border: 0;clip: rect(1px 1px 1px 1px);clip: rect(1px, 1px, 1px, 1px);height: 1px;margin: -1px;overflow: hidden;padding: 0;position: absolute;width: 1px;}#sk-container-id-1 div.sk-estimator {font-family: monospace;background-color: #f0f8ff;border: 1px dotted black;border-radius: 0.25em;box-sizing: border-box;margin-bottom: 0.5em;}#sk-container-id-1 div.sk-estimator:hover {background-color: #d4ebff;}#sk-container-id-1 div.sk-parallel-item::after {content: \"\";width: 100%;border-bottom: 1px solid gray;flex-grow: 1;}#sk-container-id-1 div.sk-label:hover label.sk-toggleable__label {background-color: #d4ebff;}#sk-container-id-1 div.sk-serial::before {content: \"\";position: absolute;border-left: 1px solid gray;box-sizing: border-box;top: 0;bottom: 0;left: 50%;z-index: 0;}#sk-container-id-1 div.sk-serial {display: flex;flex-direction: column;align-items: center;background-color: white;padding-right: 0.2em;padding-left: 0.2em;position: relative;}#sk-container-id-1 div.sk-item {position: relative;z-index: 1;}#sk-container-id-1 div.sk-parallel {display: flex;align-items: stretch;justify-content: center;background-color: white;position: relative;}#sk-container-id-1 div.sk-item::before, #sk-container-id-1 div.sk-parallel-item::before {content: \"\";position: absolute;border-left: 1px solid gray;box-sizing: border-box;top: 0;bottom: 0;left: 50%;z-index: -1;}#sk-container-id-1 div.sk-parallel-item {display: flex;flex-direction: column;z-index: 1;position: relative;background-color: white;}#sk-container-id-1 div.sk-parallel-item:first-child::after {align-self: flex-end;width: 50%;}#sk-container-id-1 div.sk-parallel-item:last-child::after {align-self: flex-start;width: 50%;}#sk-container-id-1 div.sk-parallel-item:only-child::after {width: 0;}#sk-container-id-1 div.sk-dashed-wrapped {border: 1px dashed gray;margin: 0 0.4em 0.5em 0.4em;box-sizing: border-box;padding-bottom: 0.4em;background-color: white;}#sk-container-id-1 div.sk-label label {font-family: monospace;font-weight: bold;display: inline-block;line-height: 1.2em;}#sk-container-id-1 div.sk-label-container {text-align: center;}#sk-container-id-1 div.sk-container {/* jupyter's `normalize.less` sets `[hidden] { display: none; }` but bootstrap.min.css set `[hidden] { display: none !important; }` so we also need the `!important` here to be able to override the default hidden behavior on the sphinx rendered scikit-learn.org. See: https://github.com/scikit-learn/scikit-learn/issues/21755 */display: inline-block !important;position: relative;}#sk-container-id-1 div.sk-text-repr-fallback {display: none;}</style><div id=\"sk-container-id-1\" class=\"sk-top-container\"><div class=\"sk-text-repr-fallback\"><pre>XGBRegressor(alpha=10, base_score=None, booster=None, callbacks=None,\n",
       "             colsample_bylevel=None, colsample_bynode=None,\n",
       "             colsample_bytree=0.3, early_stopping_rounds=None,\n",
       "             enable_categorical=False, eval_metric=None, feature_types=None,\n",
       "             gamma=None, gpu_id=None, grow_policy=None, importance_type=None,\n",
       "             interaction_constraints=None, learning_rate=0.1, max_bin=None,\n",
       "             max_cat_threshold=None, max_cat_to_onehot=None,\n",
       "             max_delta_step=None, max_depth=5, max_leaves=None,\n",
       "             min_child_weight=None, missing=nan, monotone_constraints=None,\n",
       "             n_estimators=100, n_jobs=None, num_parallel_tree=None,\n",
       "             predictor=None, ...)</pre><b>In a Jupyter environment, please rerun this cell to show the HTML representation or trust the notebook. <br />On GitHub, the HTML representation is unable to render, please try loading this page with nbviewer.org.</b></div><div class=\"sk-container\" hidden><div class=\"sk-item\"><div class=\"sk-estimator sk-toggleable\"><input class=\"sk-toggleable__control sk-hidden--visually\" id=\"sk-estimator-id-1\" type=\"checkbox\" checked><label for=\"sk-estimator-id-1\" class=\"sk-toggleable__label sk-toggleable__label-arrow\">XGBRegressor</label><div class=\"sk-toggleable__content\"><pre>XGBRegressor(alpha=10, base_score=None, booster=None, callbacks=None,\n",
       "             colsample_bylevel=None, colsample_bynode=None,\n",
       "             colsample_bytree=0.3, early_stopping_rounds=None,\n",
       "             enable_categorical=False, eval_metric=None, feature_types=None,\n",
       "             gamma=None, gpu_id=None, grow_policy=None, importance_type=None,\n",
       "             interaction_constraints=None, learning_rate=0.1, max_bin=None,\n",
       "             max_cat_threshold=None, max_cat_to_onehot=None,\n",
       "             max_delta_step=None, max_depth=5, max_leaves=None,\n",
       "             min_child_weight=None, missing=nan, monotone_constraints=None,\n",
       "             n_estimators=100, n_jobs=None, num_parallel_tree=None,\n",
       "             predictor=None, ...)</pre></div></div></div></div></div>"
      ],
      "text/plain": [
       "XGBRegressor(alpha=10, base_score=None, booster=None, callbacks=None,\n",
       "             colsample_bylevel=None, colsample_bynode=None,\n",
       "             colsample_bytree=0.3, early_stopping_rounds=None,\n",
       "             enable_categorical=False, eval_metric=None, feature_types=None,\n",
       "             gamma=None, gpu_id=None, grow_policy=None, importance_type=None,\n",
       "             interaction_constraints=None, learning_rate=0.1, max_bin=None,\n",
       "             max_cat_threshold=None, max_cat_to_onehot=None,\n",
       "             max_delta_step=None, max_depth=5, max_leaves=None,\n",
       "             min_child_weight=None, missing=nan, monotone_constraints=None,\n",
       "             n_estimators=100, n_jobs=None, num_parallel_tree=None,\n",
       "             predictor=None, ...)"
      ]
     },
     "execution_count": 16,
     "metadata": {},
     "output_type": "execute_result"
    }
   ],
   "source": [
    "# Train the XGBoost model\n",
    "xg_reg = xgb.XGBRegressor(objective ='reg:squarederror', \n",
    "                          colsample_bytree = 0.3, \n",
    "                          learning_rate = 0.1,\n",
    "                          max_depth = 5, \n",
    "                          alpha = 10, \n",
    "                          n_estimators = 100)\n",
    "\n",
    "\n",
    "xg_reg.fit(X_train,y_train)"
   ]
  },
  {
   "attachments": {},
   "cell_type": "markdown",
   "id": "31934c5d",
   "metadata": {},
   "source": [
    "These initial metrics were a simple guess based on the most common ranges for these hyper parameters"
   ]
  },
  {
   "cell_type": "code",
   "execution_count": 17,
   "id": "d69a5a68",
   "metadata": {},
   "outputs": [
    {
     "name": "stdout",
     "output_type": "stream",
     "text": [
      "Accuracy score 0.6297\n"
     ]
    }
   ],
   "source": [
    "print('Accuracy score', xg_reg.score(X_test,y_test).round(4))"
   ]
  },
  {
   "attachments": {},
   "cell_type": "markdown",
   "id": "304ee934",
   "metadata": {},
   "source": [
    "# XGBoost Hyper Parameter Tuning"
   ]
  },
  {
   "cell_type": "code",
   "execution_count": 18,
   "id": "79db64c3",
   "metadata": {},
   "outputs": [
    {
     "name": "stdout",
     "output_type": "stream",
     "text": [
      "These are the best Parameters for this model {'n_estimators': 290, 'max_depth': 3, 'learning_rate': 0.8, 'colsample_bytree': 0.5, 'alpha': 21}\n",
      "This is the best possible score 0.9886\n"
     ]
    }
   ],
   "source": [
    "\n",
    "\n",
    "params = {'alpha': np.arange(1,25),\n",
    "          'max_depth': np.arange(1,25),\n",
    "          'learning_rate': np.arange(0,1,0.1).round(1),\n",
    "          'colsample_bytree': np.arange(0,1,0.1).round(1),\n",
    "          'n_estimators': np.arange(50,500,20)}\n",
    "\n",
    "xgb_grid = RandomizedSearchCV(\n",
    "    xg_reg,\n",
    "    param_distributions=params,\n",
    "    n_iter=10,\n",
    "    cv=5,\n",
    "    random_state=42\n",
    ")\n",
    "xgb_grid.fit(X_train,y_train)\n",
    "\n",
    "print('These are the best Parameters for this model',xgb_grid.best_params_)\n",
    "print('This is the best possible score',xgb_grid.best_score_.round(4))\n"
   ]
  },
  {
   "attachments": {},
   "cell_type": "markdown",
   "id": "c343cc08",
   "metadata": {},
   "source": [
    "The reason for using a randomized search rather than a grid search is to save a lot of time. We tried to make the grid search work by giving it a smaller sample as well as cutting of the number of iterations it did to 10, but to no avail, it still took too much time and resources. The Randomized search works just as well as can be seen by the best possible score that was obtained, 98.86%. "
   ]
  },
  {
   "attachments": {},
   "cell_type": "markdown",
   "id": "f32ec2aa",
   "metadata": {},
   "source": [
    "## XGBoost Hyper Parameter tuning results application"
   ]
  },
  {
   "cell_type": "code",
   "execution_count": 19,
   "id": "8aa46ae3",
   "metadata": {},
   "outputs": [
    {
     "data": {
      "text/html": [
       "<style>#sk-container-id-2 {color: black;background-color: white;}#sk-container-id-2 pre{padding: 0;}#sk-container-id-2 div.sk-toggleable {background-color: white;}#sk-container-id-2 label.sk-toggleable__label {cursor: pointer;display: block;width: 100%;margin-bottom: 0;padding: 0.3em;box-sizing: border-box;text-align: center;}#sk-container-id-2 label.sk-toggleable__label-arrow:before {content: \"▸\";float: left;margin-right: 0.25em;color: #696969;}#sk-container-id-2 label.sk-toggleable__label-arrow:hover:before {color: black;}#sk-container-id-2 div.sk-estimator:hover label.sk-toggleable__label-arrow:before {color: black;}#sk-container-id-2 div.sk-toggleable__content {max-height: 0;max-width: 0;overflow: hidden;text-align: left;background-color: #f0f8ff;}#sk-container-id-2 div.sk-toggleable__content pre {margin: 0.2em;color: black;border-radius: 0.25em;background-color: #f0f8ff;}#sk-container-id-2 input.sk-toggleable__control:checked~div.sk-toggleable__content {max-height: 200px;max-width: 100%;overflow: auto;}#sk-container-id-2 input.sk-toggleable__control:checked~label.sk-toggleable__label-arrow:before {content: \"▾\";}#sk-container-id-2 div.sk-estimator input.sk-toggleable__control:checked~label.sk-toggleable__label {background-color: #d4ebff;}#sk-container-id-2 div.sk-label input.sk-toggleable__control:checked~label.sk-toggleable__label {background-color: #d4ebff;}#sk-container-id-2 input.sk-hidden--visually {border: 0;clip: rect(1px 1px 1px 1px);clip: rect(1px, 1px, 1px, 1px);height: 1px;margin: -1px;overflow: hidden;padding: 0;position: absolute;width: 1px;}#sk-container-id-2 div.sk-estimator {font-family: monospace;background-color: #f0f8ff;border: 1px dotted black;border-radius: 0.25em;box-sizing: border-box;margin-bottom: 0.5em;}#sk-container-id-2 div.sk-estimator:hover {background-color: #d4ebff;}#sk-container-id-2 div.sk-parallel-item::after {content: \"\";width: 100%;border-bottom: 1px solid gray;flex-grow: 1;}#sk-container-id-2 div.sk-label:hover label.sk-toggleable__label {background-color: #d4ebff;}#sk-container-id-2 div.sk-serial::before {content: \"\";position: absolute;border-left: 1px solid gray;box-sizing: border-box;top: 0;bottom: 0;left: 50%;z-index: 0;}#sk-container-id-2 div.sk-serial {display: flex;flex-direction: column;align-items: center;background-color: white;padding-right: 0.2em;padding-left: 0.2em;position: relative;}#sk-container-id-2 div.sk-item {position: relative;z-index: 1;}#sk-container-id-2 div.sk-parallel {display: flex;align-items: stretch;justify-content: center;background-color: white;position: relative;}#sk-container-id-2 div.sk-item::before, #sk-container-id-2 div.sk-parallel-item::before {content: \"\";position: absolute;border-left: 1px solid gray;box-sizing: border-box;top: 0;bottom: 0;left: 50%;z-index: -1;}#sk-container-id-2 div.sk-parallel-item {display: flex;flex-direction: column;z-index: 1;position: relative;background-color: white;}#sk-container-id-2 div.sk-parallel-item:first-child::after {align-self: flex-end;width: 50%;}#sk-container-id-2 div.sk-parallel-item:last-child::after {align-self: flex-start;width: 50%;}#sk-container-id-2 div.sk-parallel-item:only-child::after {width: 0;}#sk-container-id-2 div.sk-dashed-wrapped {border: 1px dashed gray;margin: 0 0.4em 0.5em 0.4em;box-sizing: border-box;padding-bottom: 0.4em;background-color: white;}#sk-container-id-2 div.sk-label label {font-family: monospace;font-weight: bold;display: inline-block;line-height: 1.2em;}#sk-container-id-2 div.sk-label-container {text-align: center;}#sk-container-id-2 div.sk-container {/* jupyter's `normalize.less` sets `[hidden] { display: none; }` but bootstrap.min.css set `[hidden] { display: none !important; }` so we also need the `!important` here to be able to override the default hidden behavior on the sphinx rendered scikit-learn.org. See: https://github.com/scikit-learn/scikit-learn/issues/21755 */display: inline-block !important;position: relative;}#sk-container-id-2 div.sk-text-repr-fallback {display: none;}</style><div id=\"sk-container-id-2\" class=\"sk-top-container\"><div class=\"sk-text-repr-fallback\"><pre>XGBRegressor(alpha=21, base_score=None, booster=None, callbacks=None,\n",
       "             colsample_bylevel=None, colsample_bynode=None,\n",
       "             colsample_bytree=0.5, early_stopping_rounds=None,\n",
       "             enable_categorical=False, eval_metric=None, feature_types=None,\n",
       "             gamma=None, gpu_id=None, grow_policy=None, importance_type=None,\n",
       "             interaction_constraints=None, learning_rate=0.8, max_bin=None,\n",
       "             max_cat_threshold=None, max_cat_to_onehot=None,\n",
       "             max_delta_step=None, max_depth=3, max_leaves=None,\n",
       "             min_child_weight=None, missing=nan, monotone_constraints=None,\n",
       "             n_estimators=290, n_jobs=None, num_parallel_tree=None,\n",
       "             predictor=None, ...)</pre><b>In a Jupyter environment, please rerun this cell to show the HTML representation or trust the notebook. <br />On GitHub, the HTML representation is unable to render, please try loading this page with nbviewer.org.</b></div><div class=\"sk-container\" hidden><div class=\"sk-item\"><div class=\"sk-estimator sk-toggleable\"><input class=\"sk-toggleable__control sk-hidden--visually\" id=\"sk-estimator-id-2\" type=\"checkbox\" checked><label for=\"sk-estimator-id-2\" class=\"sk-toggleable__label sk-toggleable__label-arrow\">XGBRegressor</label><div class=\"sk-toggleable__content\"><pre>XGBRegressor(alpha=21, base_score=None, booster=None, callbacks=None,\n",
       "             colsample_bylevel=None, colsample_bynode=None,\n",
       "             colsample_bytree=0.5, early_stopping_rounds=None,\n",
       "             enable_categorical=False, eval_metric=None, feature_types=None,\n",
       "             gamma=None, gpu_id=None, grow_policy=None, importance_type=None,\n",
       "             interaction_constraints=None, learning_rate=0.8, max_bin=None,\n",
       "             max_cat_threshold=None, max_cat_to_onehot=None,\n",
       "             max_delta_step=None, max_depth=3, max_leaves=None,\n",
       "             min_child_weight=None, missing=nan, monotone_constraints=None,\n",
       "             n_estimators=290, n_jobs=None, num_parallel_tree=None,\n",
       "             predictor=None, ...)</pre></div></div></div></div></div>"
      ],
      "text/plain": [
       "XGBRegressor(alpha=21, base_score=None, booster=None, callbacks=None,\n",
       "             colsample_bylevel=None, colsample_bynode=None,\n",
       "             colsample_bytree=0.5, early_stopping_rounds=None,\n",
       "             enable_categorical=False, eval_metric=None, feature_types=None,\n",
       "             gamma=None, gpu_id=None, grow_policy=None, importance_type=None,\n",
       "             interaction_constraints=None, learning_rate=0.8, max_bin=None,\n",
       "             max_cat_threshold=None, max_cat_to_onehot=None,\n",
       "             max_delta_step=None, max_depth=3, max_leaves=None,\n",
       "             min_child_weight=None, missing=nan, monotone_constraints=None,\n",
       "             n_estimators=290, n_jobs=None, num_parallel_tree=None,\n",
       "             predictor=None, ...)"
      ]
     },
     "execution_count": 19,
     "metadata": {},
     "output_type": "execute_result"
    }
   ],
   "source": [
    "# New model with outputs from best params\n",
    "xg_reg = xgb.XGBRegressor(objective ='reg:squarederror', \n",
    "                          colsample_bytree = 0.5, \n",
    "                          learning_rate = 0.8,\n",
    "                          max_depth = 3, \n",
    "                          alpha = 21, \n",
    "                          n_estimators = 290)\n",
    "\n",
    "xg_reg.fit(X_train,y_train)\n"
   ]
  },
  {
   "cell_type": "code",
   "execution_count": 20,
   "id": "392af4e2",
   "metadata": {},
   "outputs": [
    {
     "name": "stdout",
     "output_type": "stream",
     "text": [
      "Accuracy score after hyperparameter tuning 0.9917\n"
     ]
    }
   ],
   "source": [
    "print('Accuracy score after hyperparameter tuning', xg_reg.score(X_test,y_test).round(4))"
   ]
  },
  {
   "attachments": {},
   "cell_type": "markdown",
   "id": "9599626b",
   "metadata": {},
   "source": [
    "After applying the results from the Hyper Parameter tuning, the best score we got was actually higher than the random search prediction at 99.17%. This was a massive improvement from the initial model that had a 62.97% accuracy rating."
   ]
  },
  {
   "cell_type": "markdown",
   "id": "b26acf60",
   "metadata": {},
   "source": [
    "# XGBoost Cross Validation"
   ]
  },
  {
   "cell_type": "code",
   "execution_count": 21,
   "id": "b8f93cec",
   "metadata": {},
   "outputs": [
    {
     "data": {
      "image/png": "[encoded data removed]",
      "text/plain": [
       "<Figure size 432x288 with 1 Axes>"
      ]
     },
     "metadata": {
      "needs_background": "light"
     },
     "output_type": "display_data"
    }
   ],
   "source": [
    "# Cross validation \n",
    "\n",
    "#Cross Validation Fold line plot\n",
    "cv = 10\n",
    "xgb_scores = cross_val_score(xg_reg, X, y, cv=cv, scoring='r2')\n",
    "\n",
    "plt.plot(xgb_scores)\n",
    "plt.xlabel('Fold')\n",
    "plt.xticks(range(cv+1))\n",
    "plt.ylabel('R^2 Score')\n",
    "plt.title('Cross-validation Scores')\n",
    "plt.show()\n"
   ]
  },
  {
   "cell_type": "code",
   "execution_count": 22,
   "id": "ec6492c2",
   "metadata": {},
   "outputs": [
    {
     "name": "stdout",
     "output_type": "stream",
     "text": [
      "Mean R^2 score: 0.988\n",
      "Standard deviation of R^2 scores: 0.004\n"
     ]
    }
   ],
   "source": [
    "# Print the mean and standard deviation of the scores\n",
    "print('Mean R^2 score:', np.mean(xgb_scores).round(3))\n",
    "print('Standard deviation of R^2 scores:', np.std(xgb_scores).round(3))"
   ]
  },
  {
   "cell_type": "markdown",
   "id": "73beef61",
   "metadata": {},
   "source": [
    "The cross validation scores line chart is hovering above a 98% R^2 score. We can make the inference that this model is performing well, especially since the mean R^2 score is also very high at 98.8% as well as the fact that the standard deviation being relatively low at 0.004. This low standard deviation also means that there is less variability in the data and suggests that the R^2 scores are consistent and close to the mean score as well as the data points being grouped closely together. "
   ]
  },
  {
   "cell_type": "code",
   "execution_count": 23,
   "id": "de30361a",
   "metadata": {},
   "outputs": [
    {
     "name": "stdout",
     "output_type": "stream",
     "text": [
      "Feature 1: Importance = 0.02571968361735344\n",
      "Feature 2: Importance = 0.011099179275333881\n",
      "Feature 3: Importance = 0.4039747714996338\n",
      "Feature 4: Importance = 0.4907691478729248\n",
      "Feature 5: Importance = 0.06843719631433487\n"
     ]
    }
   ],
   "source": [
    "importance = xg_reg.feature_importances_\n",
    "\n",
    "# Print feature importances\n",
    "for i in range(len(importance)):\n",
    "    print(f'Feature {i+1}: Importance = {importance[i]}')"
   ]
  },
  {
   "attachments": {},
   "cell_type": "markdown",
   "id": "1f63755f",
   "metadata": {},
   "source": [
    "The order of the features go ['positive_ratio', 'user_reviews', 'price_final', 'price_original', 'lowest_price']. This means that the most important feature is the original price of the game, followed by the final price of the game. The least important features are the user reviews and positive ratio of the game. This is an interesting find for our model."
   ]
  },
  {
   "attachments": {},
   "cell_type": "markdown",
   "id": "80a0fb49",
   "metadata": {},
   "source": [
    "# XGBoost Probability Prediction Visualizations"
   ]
  },
  {
   "cell_type": "code",
   "execution_count": 24,
   "id": "ea2b04b3",
   "metadata": {},
   "outputs": [],
   "source": [
    "y_pred = xg_reg.predict(X_test)\n",
    "\n",
    "# Convert the predicted probabilities to probabilities between 0 and 1 using Min-Max scaling\n",
    "scaler_prob = MinMaxScaler()\n",
    "y_pred_prob = scaler_prob.fit_transform(y_pred.reshape(-1,1))"
   ]
  },
  {
   "cell_type": "code",
   "execution_count": 25,
   "id": "ec50236d",
   "metadata": {},
   "outputs": [
    {
     "data": {
      "image/png": "[encoded data removed]",
      "text/plain": [
       "<Figure size 432x288 with 1 Axes>"
      ]
     },
     "metadata": {
      "needs_background": "light"
     },
     "output_type": "display_data"
    }
   ],
   "source": [
    "#VISUALIZATION \n",
    "\n",
    "bins = np.linspace(0, 1, 11) #specifying the number of bins in this visualization\n",
    "\n",
    "# Plot histogram of predicted probabilities for the full range\n",
    "plt.hist(y_pred_prob, bins=10, color='lightblue', edgecolor='black')\n",
    "plt.xlabel('Predicted Probability')\n",
    "plt.ylabel('Count')\n",
    "plt.title('Distribution of Predicted Probabilities')\n",
    "\n",
    "# Adding text labels on top of the bars\n",
    "total_count = len(y_pred_prob)\n",
    "for i in range(len(bins) - 1):\n",
    "\n",
    "    count = np.sum((y_pred_prob >= bins[i]) & (y_pred_prob < bins[i + 1])) #the number of data points in each bin\n",
    "    percentage = count / len(y_pred_prob) * 100 #percentage that is going to be shown on top of the bar\n",
    "\n",
    "    #the percentage on top of the bins\n",
    "    plt.text((bins[i] + bins[i + 1]) / 2, count, f'{percentage:.1f}%', ha='center', va='bottom', color='black')\n",
    "\n",
    "# Showing sample size for the full test size \n",
    "plt.text(0.95, 0.85, f'Total Test Size: {total_count}', transform=plt.gca().transAxes, ha='right', color='black')\n",
    "\n",
    "plt.show()\n"
   ]
  },
  {
   "attachments": {},
   "cell_type": "markdown",
   "id": "7b401fb4",
   "metadata": {},
   "source": [
    "As we can see, almost 82%, 3,260 games, of the test size of games reside in the first bin between 0 and 0.1. What this tells us is that most games will either have a 0 or 10% chance of going on sale. The rest of the distribution is split into 9 more bins with only about 18% of the test set left. This visualization shows us a very good representation on the grand scheme of things, however, we want to dive deeper and see more about how many games could have a higher chance of going on sale. Thus, we made another visualization of probabilities above 50% below. "
   ]
  },
  {
   "cell_type": "code",
   "execution_count": 26,
   "id": "718e090c",
   "metadata": {},
   "outputs": [
    {
     "data": {
      "image/png": "[encoded data removed]",
      "text/plain": [
       "<Figure size 432x288 with 1 Axes>"
      ]
     },
     "metadata": {
      "needs_background": "light"
     },
     "output_type": "display_data"
    }
   ],
   "source": [
    "# Visualization for Predictions above 50%\n",
    "\n",
    "# New bin sizing for probabilities above 50%\n",
    "bins50p = np.linspace(0.5, 1.0, num = 11)\n",
    "\n",
    "# Plot histogram of predicted probabilities for the probilities above 50%\n",
    "plt.hist(y_pred_prob, bins=10, range=(0.5,1.0), color='lightblue', edgecolor='black')\n",
    "plt.xlabel('Predicted Probability')\n",
    "plt.ylabel('Count')\n",
    "plt.title('Distribution of Predicted Probabilities Above 50%')\n",
    "\n",
    "# Above 50% totals\n",
    "total_count_above_50 = np.sum(y_pred_prob >= 0.5)\n",
    "total_percentage_above_50 = total_count_above_50 / total_count * 100\n",
    "\n",
    "\n",
    "for i in range(len(bins50p) - 1):\n",
    "\n",
    "\n",
    "    count = np.sum((y_pred_prob >= bins50p[i]) & (y_pred_prob < bins50p[i + 1])) #the number of data points in each bin\n",
    "    percentage_above_50 = count / total_count_above_50 * 100  #calculate percentage of count relative to total count above 50%\n",
    "\n",
    "    if bins50p[i] >= 0.5:  # Only show labels for bins with values >= 50%\n",
    "\n",
    "        #the percentage on top of the bins\n",
    "        plt.text((bins50p[i] + bins50p[i + 1]) / 2, count, f'{percentage_above_50:.1f}%', ha='center', va='bottom', color='black')\n",
    "\n",
    "\n",
    "# Add total sample size above 50% as a text label\n",
    "plt.text(0.65, 0.90, f'Total Test Size Above 50%: {total_count_above_50}', transform=plt.gca().transAxes, ha='right', color='black')\n",
    "\n",
    "plt.show()\n"
   ]
  },
  {
   "attachments": {},
   "cell_type": "markdown",
   "id": "d2651f8b",
   "metadata": {},
   "source": [
    "This is the distribution of probabilities above 50% with only 322 test data points. What we can see is that there are many games that could go on sale with the biggest bin being between 0.9 and 0.95 at 20.5% of the test data points. We can see much less of a trend compared to the general overview for the full range of test data points above. Since 322 is about 1% of the total test data size we can make the observation that most games will probably not go on sale. "
   ]
  },
  {
   "attachments": {},
   "cell_type": "markdown",
   "id": "2a0e15a0",
   "metadata": {},
   "source": [
    "# Overview and observations"
   ]
  },
  {
   "attachments": {},
   "cell_type": "markdown",
   "id": "df078776",
   "metadata": {},
   "source": [
    "As we have concluded, most games will not go on sale. We have slightly altered our main prompt for this project from whether games will go on sale to what is the likelihood of games going on sale. We think that our previous prompt definitely required more time and data, both things we currently do not have at the moment. However, based on our XGBoost model, we can make a strong inference that since only about 1% of games from the test data size had a 50% chance or higher of going on sale, most games in the overall data will most likely not go on sale either. Essentially our answer to our prompt is of the mindset that it is extremely unlikely a game goes on sale based on ratings alone. There is definitely more at play than simply looking at ratings as one of the main contributing factors to the probability of games going on sale. "
   ]
  },
  {
   "cell_type": "markdown",
   "id": "6f799137",
   "metadata": {},
   "source": []
  }
 ],
 "metadata": {
  "kernelspec": {
   "display_name": "base",
   "language": "python",
   "name": "python3"
  },
  "language_info": {
   "codemirror_mode": {
    "name": "ipython",
    "version": 3
   },
   "file_extension": ".py",
   "mimetype": "text/x-python",
   "name": "python",
   "nbconvert_exporter": "python",
   "pygments_lexer": "ipython3",
   "version": "3.9.7"
  },
  "vscode": {
   "interpreter": {
    "hash": "8807780599ed541356b7158b7341969f6c46cd4b5e9d930b65fcc0b737c297d7"
   }
  }
 },
 "nbformat": 4,
 "nbformat_minor": 5
}
